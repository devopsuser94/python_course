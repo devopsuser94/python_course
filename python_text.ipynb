{
 "cells": [
  {
   "cell_type": "code",
   "execution_count": 1,
   "id": "17bfe3a3",
   "metadata": {},
   "outputs": [],
   "source": [
    "# load the numpy library with alias name \"np\"\n",
    "import numpy as np\n",
    "# load the pandas library with alias name \"pd\"\n",
    "import pandas as pd"
   ]
  },
  {
   "cell_type": "code",
   "execution_count": 54,
   "id": "1db05761",
   "metadata": {
    "scrolled": true
   },
   "outputs": [
    {
     "data": {
      "text/html": [
       "<div>\n",
       "<style scoped>\n",
       "    .dataframe tbody tr th:only-of-type {\n",
       "        vertical-align: middle;\n",
       "    }\n",
       "\n",
       "    .dataframe tbody tr th {\n",
       "        vertical-align: top;\n",
       "    }\n",
       "\n",
       "    .dataframe thead th {\n",
       "        text-align: right;\n",
       "    }\n",
       "</style>\n",
       "<table border=\"1\" class=\"dataframe\">\n",
       "  <thead>\n",
       "    <tr style=\"text-align: right;\">\n",
       "      <th></th>\n",
       "      <th>Company Name</th>\n",
       "      <th>Beta</th>\n",
       "      <th>Alpha</th>\n",
       "      <th>NIFTY closing</th>\n",
       "      <th>Date</th>\n",
       "      <th>Opening Price</th>\n",
       "      <th>High Price</th>\n",
       "      <th>Low Price</th>\n",
       "      <th>Closing Price</th>\n",
       "      <th>Adjusted Closing Price</th>\n",
       "      <th>Shares Outstanding</th>\n",
       "      <th>Market Capitalisation</th>\n",
       "      <th>Total Returns</th>\n",
       "      <th>Face Value</th>\n",
       "      <th>EPS</th>\n",
       "      <th>P/E</th>\n",
       "      <th>P/B</th>\n",
       "      <th>Yield</th>\n",
       "    </tr>\n",
       "  </thead>\n",
       "  <tbody>\n",
       "    <tr>\n",
       "      <th>0</th>\n",
       "      <td>20 Microns Ltd.</td>\n",
       "      <td>1.23</td>\n",
       "      <td>-0.08</td>\n",
       "      <td>17416.55</td>\n",
       "      <td>2021-11-22</td>\n",
       "      <td>60.25</td>\n",
       "      <td>61.10</td>\n",
       "      <td>56.25</td>\n",
       "      <td>57.50</td>\n",
       "      <td>57.50</td>\n",
       "      <td>35286502.0</td>\n",
       "      <td>2028.97</td>\n",
       "      <td>-4.56</td>\n",
       "      <td>5.0</td>\n",
       "      <td>10.70</td>\n",
       "      <td>5.37</td>\n",
       "      <td>0.96</td>\n",
       "      <td>0.00</td>\n",
       "    </tr>\n",
       "    <tr>\n",
       "      <th>1</th>\n",
       "      <td>20Th Century Finance Corpn. Ltd. [Merged]</td>\n",
       "      <td>0.61</td>\n",
       "      <td>-0.61</td>\n",
       "      <td>1160.15</td>\n",
       "      <td>1999-05-18</td>\n",
       "      <td>12.50</td>\n",
       "      <td>12.50</td>\n",
       "      <td>12.10</td>\n",
       "      <td>12.50</td>\n",
       "      <td>12.50</td>\n",
       "      <td>17470191.0</td>\n",
       "      <td>218.38</td>\n",
       "      <td>-0.79</td>\n",
       "      <td>10.0</td>\n",
       "      <td>9.63</td>\n",
       "      <td>1.30</td>\n",
       "      <td>0.12</td>\n",
       "      <td>19.20</td>\n",
       "    </tr>\n",
       "    <tr>\n",
       "      <th>2</th>\n",
       "      <td>3I Infotech Ltd.</td>\n",
       "      <td>1.49</td>\n",
       "      <td>0.18</td>\n",
       "      <td>17416.55</td>\n",
       "      <td>2021-11-22</td>\n",
       "      <td>89.35</td>\n",
       "      <td>89.35</td>\n",
       "      <td>89.35</td>\n",
       "      <td>89.35</td>\n",
       "      <td>89.35</td>\n",
       "      <td>164036287.0</td>\n",
       "      <td>14656.64</td>\n",
       "      <td>4.99</td>\n",
       "      <td>10.0</td>\n",
       "      <td>1.45</td>\n",
       "      <td>61.66</td>\n",
       "      <td>NaN</td>\n",
       "      <td>0.00</td>\n",
       "    </tr>\n",
       "    <tr>\n",
       "      <th>3</th>\n",
       "      <td>3M India Ltd.</td>\n",
       "      <td>0.90</td>\n",
       "      <td>0.21</td>\n",
       "      <td>17416.55</td>\n",
       "      <td>2021-11-22</td>\n",
       "      <td>25200.00</td>\n",
       "      <td>25600.00</td>\n",
       "      <td>25001.00</td>\n",
       "      <td>25250.90</td>\n",
       "      <td>25250.90</td>\n",
       "      <td>11265070.0</td>\n",
       "      <td>284453.16</td>\n",
       "      <td>0.23</td>\n",
       "      <td>10.0</td>\n",
       "      <td>185.40</td>\n",
       "      <td>136.20</td>\n",
       "      <td>12.29</td>\n",
       "      <td>0.00</td>\n",
       "    </tr>\n",
       "    <tr>\n",
       "      <th>4</th>\n",
       "      <td>3P Land Holdings Ltd.</td>\n",
       "      <td>0.92</td>\n",
       "      <td>0.09</td>\n",
       "      <td>17416.55</td>\n",
       "      <td>2021-11-22</td>\n",
       "      <td>13.95</td>\n",
       "      <td>13.95</td>\n",
       "      <td>12.75</td>\n",
       "      <td>12.85</td>\n",
       "      <td>12.85</td>\n",
       "      <td>18000000.0</td>\n",
       "      <td>231.30</td>\n",
       "      <td>-4.10</td>\n",
       "      <td>2.0</td>\n",
       "      <td>0.02</td>\n",
       "      <td>771.00</td>\n",
       "      <td>0.47</td>\n",
       "      <td>0.00</td>\n",
       "    </tr>\n",
       "    <tr>\n",
       "      <th>...</th>\n",
       "      <td>...</td>\n",
       "      <td>...</td>\n",
       "      <td>...</td>\n",
       "      <td>...</td>\n",
       "      <td>...</td>\n",
       "      <td>...</td>\n",
       "      <td>...</td>\n",
       "      <td>...</td>\n",
       "      <td>...</td>\n",
       "      <td>...</td>\n",
       "      <td>...</td>\n",
       "      <td>...</td>\n",
       "      <td>...</td>\n",
       "      <td>...</td>\n",
       "      <td>...</td>\n",
       "      <td>...</td>\n",
       "      <td>...</td>\n",
       "      <td>...</td>\n",
       "    </tr>\n",
       "    <tr>\n",
       "      <th>6574</th>\n",
       "      <td>Zuari Forex Ltd. (1988) [Merged]</td>\n",
       "      <td>0.34</td>\n",
       "      <td>1.21</td>\n",
       "      <td>NaN</td>\n",
       "      <td>NaT</td>\n",
       "      <td>NaN</td>\n",
       "      <td>NaN</td>\n",
       "      <td>NaN</td>\n",
       "      <td>NaN</td>\n",
       "      <td>NaN</td>\n",
       "      <td>NaN</td>\n",
       "      <td>NaN</td>\n",
       "      <td>NaN</td>\n",
       "      <td>NaN</td>\n",
       "      <td>NaN</td>\n",
       "      <td>NaN</td>\n",
       "      <td>NaN</td>\n",
       "      <td>NaN</td>\n",
       "    </tr>\n",
       "    <tr>\n",
       "      <th>6575</th>\n",
       "      <td>Zuari Global Ltd.</td>\n",
       "      <td>1.78</td>\n",
       "      <td>-0.18</td>\n",
       "      <td>17416.55</td>\n",
       "      <td>2021-11-22</td>\n",
       "      <td>142.90</td>\n",
       "      <td>144.00</td>\n",
       "      <td>133.00</td>\n",
       "      <td>135.35</td>\n",
       "      <td>135.35</td>\n",
       "      <td>29440604.0</td>\n",
       "      <td>3984.79</td>\n",
       "      <td>-3.22</td>\n",
       "      <td>10.0</td>\n",
       "      <td>16.09</td>\n",
       "      <td>8.41</td>\n",
       "      <td>0.18</td>\n",
       "      <td>1.48</td>\n",
       "    </tr>\n",
       "    <tr>\n",
       "      <th>6576</th>\n",
       "      <td>Zyden Gentec Ltd.</td>\n",
       "      <td>1.01</td>\n",
       "      <td>-0.15</td>\n",
       "      <td>NaN</td>\n",
       "      <td>NaT</td>\n",
       "      <td>NaN</td>\n",
       "      <td>NaN</td>\n",
       "      <td>NaN</td>\n",
       "      <td>NaN</td>\n",
       "      <td>NaN</td>\n",
       "      <td>NaN</td>\n",
       "      <td>NaN</td>\n",
       "      <td>NaN</td>\n",
       "      <td>NaN</td>\n",
       "      <td>NaN</td>\n",
       "      <td>NaN</td>\n",
       "      <td>NaN</td>\n",
       "      <td>NaN</td>\n",
       "    </tr>\n",
       "    <tr>\n",
       "      <th>6577</th>\n",
       "      <td>Zydus Wellness Ltd.</td>\n",
       "      <td>0.64</td>\n",
       "      <td>0.29</td>\n",
       "      <td>17416.55</td>\n",
       "      <td>2021-11-22</td>\n",
       "      <td>2034.00</td>\n",
       "      <td>2034.10</td>\n",
       "      <td>1981.05</td>\n",
       "      <td>2015.85</td>\n",
       "      <td>2015.85</td>\n",
       "      <td>63632144.0</td>\n",
       "      <td>128272.86</td>\n",
       "      <td>-0.15</td>\n",
       "      <td>10.0</td>\n",
       "      <td>-24.53</td>\n",
       "      <td>NaN</td>\n",
       "      <td>3.23</td>\n",
       "      <td>0.25</td>\n",
       "    </tr>\n",
       "    <tr>\n",
       "      <th>6578</th>\n",
       "      <td>Zylog Systems Ltd.</td>\n",
       "      <td>0.50</td>\n",
       "      <td>-0.79</td>\n",
       "      <td>11189.20</td>\n",
       "      <td>2019-07-29</td>\n",
       "      <td>0.35</td>\n",
       "      <td>0.35</td>\n",
       "      <td>0.35</td>\n",
       "      <td>0.35</td>\n",
       "      <td>0.35</td>\n",
       "      <td>58992840.0</td>\n",
       "      <td>20.65</td>\n",
       "      <td>-12.50</td>\n",
       "      <td>5.0</td>\n",
       "      <td>0.26</td>\n",
       "      <td>1.35</td>\n",
       "      <td>NaN</td>\n",
       "      <td>0.00</td>\n",
       "    </tr>\n",
       "  </tbody>\n",
       "</table>\n",
       "<p>6579 rows × 18 columns</p>\n",
       "</div>"
      ],
      "text/plain": [
       "                                   Company Name  Beta  Alpha  NIFTY closing   \\\n",
       "0                               20 Microns Ltd.  1.23  -0.08        17416.55   \n",
       "1     20Th Century Finance Corpn. Ltd. [Merged]  0.61  -0.61         1160.15   \n",
       "2                              3I Infotech Ltd.  1.49   0.18        17416.55   \n",
       "3                                 3M India Ltd.  0.90   0.21        17416.55   \n",
       "4                         3P Land Holdings Ltd.  0.92   0.09        17416.55   \n",
       "...                                         ...   ...    ...             ...   \n",
       "6574           Zuari Forex Ltd. (1988) [Merged]  0.34   1.21             NaN   \n",
       "6575                          Zuari Global Ltd.  1.78  -0.18        17416.55   \n",
       "6576                          Zyden Gentec Ltd.  1.01  -0.15             NaN   \n",
       "6577                        Zydus Wellness Ltd.  0.64   0.29        17416.55   \n",
       "6578                         Zylog Systems Ltd.  0.50  -0.79        11189.20   \n",
       "\n",
       "          Date   Opening Price   High Price   Low Price   Closing Price   \\\n",
       "0    2021-11-22           60.25        61.10       56.25           57.50   \n",
       "1    1999-05-18           12.50        12.50       12.10           12.50   \n",
       "2    2021-11-22           89.35        89.35       89.35           89.35   \n",
       "3    2021-11-22        25200.00     25600.00    25001.00        25250.90   \n",
       "4    2021-11-22           13.95        13.95       12.75           12.85   \n",
       "...         ...             ...          ...         ...             ...   \n",
       "6574        NaT             NaN          NaN         NaN             NaN   \n",
       "6575 2021-11-22          142.90       144.00      133.00          135.35   \n",
       "6576        NaT             NaN          NaN         NaN             NaN   \n",
       "6577 2021-11-22         2034.00      2034.10     1981.05         2015.85   \n",
       "6578 2019-07-29            0.35         0.35        0.35            0.35   \n",
       "\n",
       "      Adjusted Closing Price   Shares Outstanding   Market Capitalisation  \\\n",
       "0                       57.50           35286502.0                2028.97   \n",
       "1                       12.50           17470191.0                 218.38   \n",
       "2                       89.35          164036287.0               14656.64   \n",
       "3                    25250.90           11265070.0              284453.16   \n",
       "4                       12.85           18000000.0                 231.30   \n",
       "...                       ...                  ...                    ...   \n",
       "6574                      NaN                  NaN                    NaN   \n",
       "6575                   135.35           29440604.0                3984.79   \n",
       "6576                      NaN                  NaN                    NaN   \n",
       "6577                  2015.85           63632144.0              128272.86   \n",
       "6578                     0.35           58992840.0                  20.65   \n",
       "\n",
       "      Total Returns  Face Value     EPS     P/E    P/B   Yield   \n",
       "0             -4.56          5.0   10.70    5.37   0.96    0.00  \n",
       "1             -0.79         10.0    9.63    1.30   0.12   19.20  \n",
       "2              4.99         10.0    1.45   61.66    NaN    0.00  \n",
       "3              0.23         10.0  185.40  136.20  12.29    0.00  \n",
       "4             -4.10          2.0    0.02  771.00   0.47    0.00  \n",
       "...             ...          ...     ...     ...    ...     ...  \n",
       "6574            NaN          NaN     NaN     NaN    NaN     NaN  \n",
       "6575          -3.22         10.0   16.09    8.41   0.18    1.48  \n",
       "6576            NaN          NaN     NaN     NaN    NaN     NaN  \n",
       "6577          -0.15         10.0  -24.53     NaN   3.23    0.25  \n",
       "6578         -12.50          5.0    0.26    1.35    NaN    0.00  \n",
       "\n",
       "[6579 rows x 18 columns]"
      ]
     },
     "execution_count": 54,
     "metadata": {},
     "output_type": "execute_result"
    }
   ],
   "source": [
    "nse_data = pd.read_excel(\"C:/Users/sayan/dataset/NSE.xlsx\", skiprows=5)\n",
    "nse_data"
   ]
  },
  {
   "cell_type": "code",
   "execution_count": 56,
   "id": "4603eb30",
   "metadata": {},
   "outputs": [],
   "source": [
    "nse_data.columns = nse_data.columns.str.lower().str.replace(' ','').str.replace('/','_')"
   ]
  },
  {
   "cell_type": "code",
   "execution_count": 57,
   "id": "9b957cee",
   "metadata": {},
   "outputs": [
    {
     "name": "stdout",
     "output_type": "stream",
     "text": [
      "<class 'pandas.core.frame.DataFrame'>\n",
      "RangeIndex: 6579 entries, 0 to 6578\n",
      "Data columns (total 18 columns):\n",
      " #   Column                Non-Null Count  Dtype         \n",
      "---  ------                --------------  -----         \n",
      " 0   companyname           6579 non-null   object        \n",
      " 1   beta                  6306 non-null   float64       \n",
      " 2   alpha                 6306 non-null   float64       \n",
      " 3   niftyclosing          3195 non-null   float64       \n",
      " 4   date                  3195 non-null   datetime64[ns]\n",
      " 5   openingprice          3195 non-null   float64       \n",
      " 6   highprice             3195 non-null   float64       \n",
      " 7   lowprice              3195 non-null   float64       \n",
      " 8   closingprice          3195 non-null   float64       \n",
      " 9   adjustedclosingprice  3195 non-null   float64       \n",
      " 10  sharesoutstanding     3181 non-null   float64       \n",
      " 11  marketcapitalisation  3189 non-null   float64       \n",
      " 12  totalreturns          3195 non-null   float64       \n",
      " 13  facevalue             3181 non-null   float64       \n",
      " 14  eps                   2981 non-null   float64       \n",
      " 15  p_e                   1845 non-null   float64       \n",
      " 16  p_b                   2647 non-null   float64       \n",
      " 17  yield                 3189 non-null   float64       \n",
      "dtypes: datetime64[ns](1), float64(16), object(1)\n",
      "memory usage: 925.3+ KB\n"
     ]
    }
   ],
   "source": [
    "nse_data.info()"
   ]
  },
  {
   "cell_type": "code",
   "execution_count": 59,
   "id": "6a1524fc",
   "metadata": {},
   "outputs": [
    {
     "data": {
      "text/plain": [
       "0.8230764351411357"
      ]
     },
     "execution_count": 59,
     "metadata": {},
     "output_type": "execute_result"
    }
   ],
   "source": [
    "mean_value = nse_data['beta'].mean()\n",
    "mean_value"
   ]
  },
  {
   "cell_type": "code",
   "execution_count": null,
   "id": "4f052176",
   "metadata": {},
   "outputs": [],
   "source": []
  },
  {
   "cell_type": "code",
   "execution_count": 4,
   "id": "629bf42f",
   "metadata": {},
   "outputs": [],
   "source": [
    "india_news = pd.read_csv('C:/Users/sayan/dataset/india-news-headlines-short.csv')"
   ]
  },
  {
   "cell_type": "code",
   "execution_count": 5,
   "id": "a03c71c3",
   "metadata": {},
   "outputs": [
    {
     "data": {
      "text/html": [
       "<div>\n",
       "<style scoped>\n",
       "    .dataframe tbody tr th:only-of-type {\n",
       "        vertical-align: middle;\n",
       "    }\n",
       "\n",
       "    .dataframe tbody tr th {\n",
       "        vertical-align: top;\n",
       "    }\n",
       "\n",
       "    .dataframe thead th {\n",
       "        text-align: right;\n",
       "    }\n",
       "</style>\n",
       "<table border=\"1\" class=\"dataframe\">\n",
       "  <thead>\n",
       "    <tr style=\"text-align: right;\">\n",
       "      <th></th>\n",
       "      <th>Unnamed: 0</th>\n",
       "      <th>publish_date</th>\n",
       "      <th>headline_category</th>\n",
       "      <th>headline_text</th>\n",
       "    </tr>\n",
       "  </thead>\n",
       "  <tbody>\n",
       "    <tr>\n",
       "      <th>0</th>\n",
       "      <td>0</td>\n",
       "      <td>20010102</td>\n",
       "      <td>unknown</td>\n",
       "      <td>Status quo will not be disturbed at Ayodhya; s...</td>\n",
       "    </tr>\n",
       "    <tr>\n",
       "      <th>1</th>\n",
       "      <td>1</td>\n",
       "      <td>20010102</td>\n",
       "      <td>unknown</td>\n",
       "      <td>Fissures in Hurriyat over Pak visit</td>\n",
       "    </tr>\n",
       "    <tr>\n",
       "      <th>2</th>\n",
       "      <td>2</td>\n",
       "      <td>20010102</td>\n",
       "      <td>unknown</td>\n",
       "      <td>America's unwanted heading for India?</td>\n",
       "    </tr>\n",
       "    <tr>\n",
       "      <th>3</th>\n",
       "      <td>3</td>\n",
       "      <td>20010102</td>\n",
       "      <td>unknown</td>\n",
       "      <td>For bigwigs; it is destination Goa</td>\n",
       "    </tr>\n",
       "    <tr>\n",
       "      <th>4</th>\n",
       "      <td>4</td>\n",
       "      <td>20010102</td>\n",
       "      <td>unknown</td>\n",
       "      <td>Extra buses to clear tourist traffic</td>\n",
       "    </tr>\n",
       "    <tr>\n",
       "      <th>...</th>\n",
       "      <td>...</td>\n",
       "      <td>...</td>\n",
       "      <td>...</td>\n",
       "      <td>...</td>\n",
       "    </tr>\n",
       "    <tr>\n",
       "      <th>3995</th>\n",
       "      <td>3995</td>\n",
       "      <td>20010505</td>\n",
       "      <td>unknown</td>\n",
       "      <td>90;000 MSU marksheets had a spelling mistake!</td>\n",
       "    </tr>\n",
       "    <tr>\n",
       "      <th>3996</th>\n",
       "      <td>3996</td>\n",
       "      <td>20010505</td>\n",
       "      <td>unknown</td>\n",
       "      <td>Another sandalwood tree felled on MSU campus</td>\n",
       "    </tr>\n",
       "    <tr>\n",
       "      <th>3997</th>\n",
       "      <td>3997</td>\n",
       "      <td>20010505</td>\n",
       "      <td>unknown</td>\n",
       "      <td>Another case of CAS violation on MSU campus</td>\n",
       "    </tr>\n",
       "    <tr>\n",
       "      <th>3998</th>\n",
       "      <td>3998</td>\n",
       "      <td>20010505</td>\n",
       "      <td>unknown</td>\n",
       "      <td>Petrol becomes cheaper; diesel dearer</td>\n",
       "    </tr>\n",
       "    <tr>\n",
       "      <th>3999</th>\n",
       "      <td>3999</td>\n",
       "      <td>20010505</td>\n",
       "      <td>unknown</td>\n",
       "      <td>Probe ordered into death of sparrows</td>\n",
       "    </tr>\n",
       "  </tbody>\n",
       "</table>\n",
       "<p>4000 rows × 4 columns</p>\n",
       "</div>"
      ],
      "text/plain": [
       "      Unnamed: 0  publish_date headline_category  \\\n",
       "0              0      20010102           unknown   \n",
       "1              1      20010102           unknown   \n",
       "2              2      20010102           unknown   \n",
       "3              3      20010102           unknown   \n",
       "4              4      20010102           unknown   \n",
       "...          ...           ...               ...   \n",
       "3995        3995      20010505           unknown   \n",
       "3996        3996      20010505           unknown   \n",
       "3997        3997      20010505           unknown   \n",
       "3998        3998      20010505           unknown   \n",
       "3999        3999      20010505           unknown   \n",
       "\n",
       "                                          headline_text  \n",
       "0     Status quo will not be disturbed at Ayodhya; s...  \n",
       "1                   Fissures in Hurriyat over Pak visit  \n",
       "2                 America's unwanted heading for India?  \n",
       "3                    For bigwigs; it is destination Goa  \n",
       "4                  Extra buses to clear tourist traffic  \n",
       "...                                                 ...  \n",
       "3995      90;000 MSU marksheets had a spelling mistake!  \n",
       "3996       Another sandalwood tree felled on MSU campus  \n",
       "3997        Another case of CAS violation on MSU campus  \n",
       "3998              Petrol becomes cheaper; diesel dearer  \n",
       "3999               Probe ordered into death of sparrows  \n",
       "\n",
       "[4000 rows x 4 columns]"
      ]
     },
     "execution_count": 5,
     "metadata": {},
     "output_type": "execute_result"
    }
   ],
   "source": [
    "india_news"
   ]
  },
  {
   "cell_type": "code",
   "execution_count": 20,
   "id": "7b645b19",
   "metadata": {},
   "outputs": [
    {
     "name": "stdout",
     "output_type": "stream",
     "text": [
      "Column names before rename : \n",
      " Index(['Unnamed: 0', 'publish_date', 'category', 'headline'], dtype='object')\n",
      "Column names after rename : \n",
      " Index(['Unnamed: 0', 'publish_date', 'headline_category', 'headline_text'], dtype='object')\n"
     ]
    }
   ],
   "source": [
    "# Renaming columns\n",
    "# use rename method for pands objects\n",
    "print(\"Column names before rename : \\n\", india_news.columns)\n",
    "\n",
    "# renaming column names\n",
    "india_news = india_news.rename(\n",
    "     columns= {\n",
    "         \"publish_date\" : \"publish_date\",\n",
    "         \"category\" : \"headline_category\",\n",
    "         \"headline\" : \"headline_text\"\n",
    "     }\n",
    ")\n",
    "\n",
    "print(\"Column names after rename : \\n\", india_news.columns)"
   ]
  },
  {
   "cell_type": "code",
   "execution_count": 22,
   "id": "58f1a73b",
   "metadata": {},
   "outputs": [
    {
     "name": "stdout",
     "output_type": "stream",
     "text": [
      "0       unknown\n",
      "1       unknown\n",
      "2       unknown\n",
      "3       unknown\n",
      "4       unknown\n",
      "         ...   \n",
      "3995    unknown\n",
      "3996    unknown\n",
      "3997    unknown\n",
      "3998    unknown\n",
      "3999    unknown\n",
      "Name: headline_category, Length: 4000, dtype: object\n"
     ]
    }
   ],
   "source": [
    "category = india_news['headline_category']\n",
    "\n",
    "print(category)"
   ]
  },
  {
   "cell_type": "code",
   "execution_count": 9,
   "id": "a7cbe781",
   "metadata": {},
   "outputs": [
    {
     "data": {
      "text/plain": [
       "0       Status quo will not be disturbed at Ayodhya; s...\n",
       "1                     Fissures in Hurriyat over Pak visit\n",
       "2                   America's unwanted heading for India?\n",
       "3                      For bigwigs; it is destination Goa\n",
       "4                    Extra buses to clear tourist traffic\n",
       "                              ...                        \n",
       "3995        90;000 MSU marksheets had a spelling mistake!\n",
       "3996         Another sandalwood tree felled on MSU campus\n",
       "3997          Another case of CAS violation on MSU campus\n",
       "3998                Petrol becomes cheaper; diesel dearer\n",
       "3999                 Probe ordered into death of sparrows\n",
       "Name: headline_text, Length: 4000, dtype: object"
      ]
     },
     "execution_count": 9,
     "metadata": {},
     "output_type": "execute_result"
    }
   ],
   "source": [
    "headline= india_news['headline_text']\n",
    "headline"
   ]
  },
  {
   "cell_type": "code",
   "execution_count": 7,
   "id": "302e047a",
   "metadata": {},
   "outputs": [
    {
     "data": {
      "text/plain": [
       "2242    Colours of Spring\n",
       "Name: headline_text, dtype: object"
      ]
     },
     "execution_count": 7,
     "metadata": {},
     "output_type": "execute_result"
    }
   ],
   "source": [
    "line= india_news['headline_text'].sample()\n",
    "line"
   ]
  },
  {
   "cell_type": "code",
   "execution_count": 9,
   "id": "caf56d94",
   "metadata": {},
   "outputs": [
    {
     "data": {
      "text/plain": [
       "2242    COLOURS OF SPRING\n",
       "Name: headline_text, dtype: object"
      ]
     },
     "execution_count": 9,
     "metadata": {},
     "output_type": "execute_result"
    }
   ],
   "source": [
    "line.str.upper()"
   ]
  },
  {
   "cell_type": "code",
   "execution_count": 12,
   "id": "eef40a11",
   "metadata": {},
   "outputs": [
    {
     "name": "stdout",
     "output_type": "stream",
     "text": [
      "<class 'pandas.core.frame.DataFrame'>\n",
      "RangeIndex: 4000 entries, 0 to 3999\n",
      "Data columns (total 4 columns):\n",
      " #   Column             Non-Null Count  Dtype \n",
      "---  ------             --------------  ----- \n",
      " 0   Unnamed: 0         4000 non-null   int64 \n",
      " 1   publish_date       4000 non-null   int64 \n",
      " 2   headline_category  4000 non-null   object\n",
      " 3   headline_text      4000 non-null   object\n",
      "dtypes: int64(2), object(2)\n",
      "memory usage: 125.1+ KB\n"
     ]
    }
   ],
   "source": [
    "india_news.info()"
   ]
  },
  {
   "cell_type": "code",
   "execution_count": 15,
   "id": "75afca32",
   "metadata": {},
   "outputs": [
    {
     "name": "stdout",
     "output_type": "stream",
     "text": [
      "2242    Colours of Spring\n",
      "Name: headline_text, dtype: object\n"
     ]
    },
    {
     "data": {
      "text/plain": [
       "1"
      ]
     },
     "execution_count": 15,
     "metadata": {},
     "output_type": "execute_result"
    }
   ],
   "source": [
    "print(line)\n",
    "len(line)"
   ]
  },
  {
   "cell_type": "code",
   "execution_count": 18,
   "id": "5d503bd1",
   "metadata": {},
   "outputs": [
    {
     "data": {
      "text/plain": [
       "0       Status\n",
       "1       Fissur\n",
       "2       Americ\n",
       "3       For bi\n",
       "4       Extra \n",
       "         ...  \n",
       "3995    90;000\n",
       "3996    Anothe\n",
       "3997    Anothe\n",
       "3998    Petrol\n",
       "3999    Probe \n",
       "Name: headline_text, Length: 4000, dtype: object"
      ]
     },
     "execution_count": 18,
     "metadata": {},
     "output_type": "execute_result"
    }
   ],
   "source": [
    "india_news['headline_text'].str[0:6]"
   ]
  },
  {
   "cell_type": "code",
   "execution_count": 27,
   "id": "837ea1a5",
   "metadata": {},
   "outputs": [
    {
     "data": {
      "text/plain": [
       "0"
      ]
     },
     "execution_count": 27,
     "metadata": {},
     "output_type": "execute_result"
    }
   ],
   "source": [
    "# boolean series returned\n",
    "count=india_news[\"headline_text\"].str.upper().str.startswith(\"The\")\n",
    "\n",
    "sum(count)"
   ]
  },
  {
   "cell_type": "code",
   "execution_count": 46,
   "id": "1744a109",
   "metadata": {},
   "outputs": [
    {
     "name": "stdout",
     "output_type": "stream",
     "text": [
      "2242    Colours of Spring\n",
      "Name: headline_text, dtype: object\n"
     ]
    },
    {
     "data": {
      "text/plain": [
       "2242    [Colours, of, Spring]\n",
       "Name: headline_text, dtype: object"
      ]
     },
     "execution_count": 46,
     "metadata": {},
     "output_type": "execute_result"
    }
   ],
   "source": [
    "print(line)\n",
    "\n",
    "line1 = line.str.split(\" \")\n",
    "\n",
    "line1"
   ]
  },
  {
   "cell_type": "code",
   "execution_count": 48,
   "id": "85da96ca",
   "metadata": {},
   "outputs": [],
   "source": [
    "GFG_dict = { 'G1': [10, 20,30,40],\n",
    "                'G2': [25, np.NaN, np.NaN, 29],\n",
    "                'G3': [15, 14, 17, 11],\n",
    "                'G4': [21, 22, 23, 25]}"
   ]
  },
  {
   "cell_type": "code",
   "execution_count": 50,
   "id": "303ded81",
   "metadata": {},
   "outputs": [
    {
     "data": {
      "text/html": [
       "<div>\n",
       "<style scoped>\n",
       "    .dataframe tbody tr th:only-of-type {\n",
       "        vertical-align: middle;\n",
       "    }\n",
       "\n",
       "    .dataframe tbody tr th {\n",
       "        vertical-align: top;\n",
       "    }\n",
       "\n",
       "    .dataframe thead th {\n",
       "        text-align: right;\n",
       "    }\n",
       "</style>\n",
       "<table border=\"1\" class=\"dataframe\">\n",
       "  <thead>\n",
       "    <tr style=\"text-align: right;\">\n",
       "      <th></th>\n",
       "      <th>G1</th>\n",
       "      <th>G2</th>\n",
       "      <th>G3</th>\n",
       "      <th>G4</th>\n",
       "    </tr>\n",
       "  </thead>\n",
       "  <tbody>\n",
       "    <tr>\n",
       "      <th>0</th>\n",
       "      <td>10</td>\n",
       "      <td>25.0</td>\n",
       "      <td>15</td>\n",
       "      <td>21</td>\n",
       "    </tr>\n",
       "    <tr>\n",
       "      <th>1</th>\n",
       "      <td>20</td>\n",
       "      <td>NaN</td>\n",
       "      <td>14</td>\n",
       "      <td>22</td>\n",
       "    </tr>\n",
       "    <tr>\n",
       "      <th>2</th>\n",
       "      <td>30</td>\n",
       "      <td>NaN</td>\n",
       "      <td>17</td>\n",
       "      <td>23</td>\n",
       "    </tr>\n",
       "    <tr>\n",
       "      <th>3</th>\n",
       "      <td>40</td>\n",
       "      <td>29.0</td>\n",
       "      <td>11</td>\n",
       "      <td>25</td>\n",
       "    </tr>\n",
       "  </tbody>\n",
       "</table>\n",
       "</div>"
      ],
      "text/plain": [
       "   G1    G2  G3  G4\n",
       "0  10  25.0  15  21\n",
       "1  20   NaN  14  22\n",
       "2  30   NaN  17  23\n",
       "3  40  29.0  11  25"
      ]
     },
     "execution_count": 50,
     "metadata": {},
     "output_type": "execute_result"
    }
   ],
   "source": [
    "# Create a DataFrame from dictionary\n",
    "gfg = pd.DataFrame(GFG_dict)\n",
    "gfg"
   ]
  },
  {
   "cell_type": "code",
   "execution_count": 52,
   "id": "8be817ef",
   "metadata": {},
   "outputs": [
    {
     "data": {
      "text/plain": [
       "27.0"
      ]
     },
     "execution_count": 52,
     "metadata": {},
     "output_type": "execute_result"
    }
   ],
   "source": [
    "#Finding the mean of the column having NaN\n",
    "mean_value=gfg['G2'].mean()\n",
    "mean_value"
   ]
  },
  {
   "cell_type": "code",
   "execution_count": 53,
   "id": "8e0bebbf",
   "metadata": {},
   "outputs": [
    {
     "name": "stdout",
     "output_type": "stream",
     "text": [
      "Updated Dataframe:\n",
      "   G1    G2  G3  G4\n",
      "0  10  25.0  15  21\n",
      "1  20  27.0  14  22\n",
      "2  30  27.0  17  23\n",
      "3  40  29.0  11  25\n"
     ]
    }
   ],
   "source": [
    "gfg['G2'].fillna(value=mean_value, inplace=True)\n",
    "print('Updated Dataframe:')\n",
    "print(gfg)"
   ]
  }
 ],
 "metadata": {
  "kernelspec": {
   "display_name": "Python 3 (ipykernel)",
   "language": "python",
   "name": "python3"
  },
  "language_info": {
   "codemirror_mode": {
    "name": "ipython",
    "version": 3
   },
   "file_extension": ".py",
   "mimetype": "text/x-python",
   "name": "python",
   "nbconvert_exporter": "python",
   "pygments_lexer": "ipython3",
   "version": "3.9.7"
  }
 },
 "nbformat": 4,
 "nbformat_minor": 5
}
