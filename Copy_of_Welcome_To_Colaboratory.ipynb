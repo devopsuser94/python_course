{
  "nbformat": 4,
  "nbformat_minor": 0,
  "metadata": {
    "colab": {
      "name": "Copy of Welcome To Colaboratory",
      "provenance": [],
      "collapsed_sections": [],
      "toc_visible": true
    },
    "kernelspec": {
      "display_name": "Python 3",
      "name": "python3"
    }
  },
  "cells": [
    {
      "cell_type": "markdown",
      "metadata": {
        "id": "5fCEDCU_qrC0"
      },
      "source": [
        "<p><img alt=\"Colaboratory logo\" height=\"45px\" src=\"/img/colab_favicon.ico\" align=\"left\" hspace=\"10px\" vspace=\"0px\"></p>\n",
        "\n",
        "<h1>What is Colaboratory?</h1>\n",
        "\n",
        "Colaboratory, or \"Colab\" for short, allows you to write and execute Python in your browser, with \n",
        "- Zero configuration required\n",
        "- Free access to GPUs\n",
        "- Easy sharing\n",
        "\n",
        "Whether you're a **student**, a **data scientist** or an **AI researcher**, Colab can make your work easier. Watch [Introduction to Colab](https://www.youtube.com/watch?v=inN8seMm7UI) to learn more, or just get started below!"
      ]
    },
    {
      "cell_type": "markdown",
      "metadata": {
        "id": "GJBs_flRovLc"
      },
      "source": [
        "## **Getting started**\n",
        "\n",
        "The document you are reading is not a static web page, but an interactive environment called a **Colab notebook** that lets you write and execute code.\n",
        "\n",
        "For example, here is a **code cell** with a short Python script that computes a value, stores it in a variable, and prints the result:"
      ]
    },
    {
      "cell_type": "code",
      "metadata": {
        "colab": {
          "base_uri": "https://localhost:8080/",
          "height": 34
        },
        "id": "gJr_9dXGpJ05",
        "outputId": "9f556d03-ec67-4950-a485-cfdba9ddd14d"
      },
      "source": [
        "seconds_in_a_day = 24 * 60 * 60\n",
        "seconds_in_a_day"
      ],
      "execution_count": null,
      "outputs": [
        {
          "data": {
            "text/plain": [
              "86400"
            ]
          },
          "execution_count": 0,
          "metadata": {
            "tags": []
          },
          "output_type": "execute_result"
        }
      ]
    },
    {
      "cell_type": "markdown",
      "metadata": {
        "id": "2fhs6GZ4qFMx"
      },
      "source": [
        "To execute the code in the above cell, select it with a click and then either press the play button to the left of the code, or use the keyboard shortcut \"Command/Ctrl+Enter\". To edit the code, just click the cell and start editing.\n",
        "\n",
        "Variables that you define in one cell can later be used in other cells:"
      ]
    },
    {
      "cell_type": "code",
      "metadata": {
        "colab": {
          "base_uri": "https://localhost:8080/",
          "height": 34
        },
        "id": "-gE-Ez1qtyIA",
        "outputId": "94cb2224-0edf-457b-90b5-0ac3488d8a97"
      },
      "source": [
        "seconds_in_a_week = 7 * seconds_in_a_day\n",
        "seconds_in_a_week"
      ],
      "execution_count": null,
      "outputs": [
        {
          "data": {
            "text/plain": [
              "604800"
            ]
          },
          "execution_count": 0,
          "metadata": {
            "tags": []
          },
          "output_type": "execute_result"
        }
      ]
    },
    {
      "cell_type": "markdown",
      "metadata": {
        "id": "lSrWNr3MuFUS"
      },
      "source": [
        "Colab notebooks allow you to combine **executable code** and **rich text** in a single document, along with **images**, **HTML**, **LaTeX** and more. When you create your own Colab notebooks, they are stored in your Google Drive account. You can easily share your Colab notebooks with co-workers or friends, allowing them to comment on your notebooks or even edit them. To learn more, see [Overview of Colab](/notebooks/basic_features_overview.ipynb). To create a new Colab notebook you can use the File menu above, or use the following link: [create a new Colab notebook](http://colab.research.google.com#create=true).\n",
        "\n",
        "Colab notebooks are Jupyter notebooks that are hosted by Colab. To learn more about the Jupyter project, see [jupyter.org](https://www.jupyter.org)."
      ]
    },
    {
      "cell_type": "markdown",
      "metadata": {
        "id": "UdRyKR44dcNI"
      },
      "source": [
        "## Data science\n",
        "\n",
        "With Colab you can harness the full power of popular Python libraries to analyze and visualize data. The code cell below uses **numpy** to generate some random data, and uses **matplotlib** to visualize it. To edit the code, just click the cell and start editing."
      ]
    },
    {
      "cell_type": "code",
      "metadata": {
        "colab": {
          "base_uri": "https://localhost:8080/",
          "height": 281
        },
        "id": "C4HZx7Gndbrh",
        "outputId": "46abc637-6abd-41b2-9bba-80a7ae992e06"
      },
      "source": [
        "import numpy as np\n",
        "from matplotlib import pyplot as plt\n",
        "\n",
        "ys = 200 + np.random.randn(100)\n",
        "x = [x for x in range(len(ys))]\n",
        "\n",
        "plt.plot(x, ys, '-')\n",
        "plt.fill_between(x, ys, 195, where=(ys > 195), facecolor='g', alpha=0.6)\n",
        "\n",
        "plt.title(\"Sample Visualization\")\n",
        "plt.show()"
      ],
      "execution_count": null,
      "outputs": [
        {
          "data": {
            "image/png": "[encoded data removed]",
            "text/plain": [
              "<Figure size 432x288 with 1 Axes>"
            ]
          },
          "metadata": {
            "tags": []
          },
          "output_type": "display_data"
        }
      ]
    },
    {
      "cell_type": "markdown",
      "metadata": {
        "id": "4_kCnsPUqS6o"
      },
      "source": [
        "You can import your own data into Colab notebooks from your Google Drive account, including from spreadsheets, as well as from Github and many other sources. To learn more about importing data, and how Colab can be used for data science, see the links below under [Working with Data](#working-with-data)."
      ]
    },
    {
      "cell_type": "markdown",
      "metadata": {
        "id": "OwuxHmxllTwN"
      },
      "source": [
        "## Machine learning\n",
        "\n",
        "With Colab you can import an image dataset, train an image classifier on it, and evaluate the model, all in just [a few lines of code](https://colab.research.google.com/github/tensorflow/docs/blob/master/site/en/tutorials/quickstart/beginner.ipynb). Colab notebooks execute code on Google's cloud servers, meaning you can leverage the power of Google hardware, including [GPUs and TPUs](#using-accelerated-hardware), regardless of the power of your machine. All you need is a browser."
      ]
    },
    {
      "cell_type": "markdown",
      "metadata": {
        "id": "ufxBm1yRnruN"
      },
      "source": [
        "Colab is used extensively in the machine learning community with applications including:\n",
        "- Getting started with TensorFlow\n",
        "- Developing and training neural networks\n",
        "- Experimenting with TPUs\n",
        "- Disseminating AI research\n",
        "- Creating tutorials\n",
        "\n",
        "To see sample Colab notebooks that demonstrate machine learning applications, see the [machine learning examples](#machine-learning-examples) below."
      ]
    },
    {
      "cell_type": "markdown",
      "metadata": {
        "id": "-Rh3-Vt9Nev9"
      },
      "source": [
        "## More Resources\n",
        "\n",
        "### Working with Notebooks in Colab\n",
        "- [Overview of Colaboratory](/notebooks/basic_features_overview.ipynb)\n",
        "- [Guide to Markdown](/notebooks/markdown_guide.ipynb)\n",
        "- [Importing libraries and installing dependencies](/notebooks/snippets/importing_libraries.ipynb)\n",
        "- [Saving and loading notebooks in GitHub](https://colab.research.google.com/github/googlecolab/colabtools/blob/master/notebooks/colab-github-demo.ipynb)\n",
        "- [Interactive forms](/notebooks/forms.ipynb)\n",
        "- [Interactive widgets](/notebooks/widgets.ipynb)\n",
        "- <img src=\"/img/new.png\" height=\"20px\" align=\"left\" hspace=\"4px\" alt=\"New\"></img>\n",
        " [TensorFlow 2 in Colab](/notebooks/tensorflow_version.ipynb)\n",
        "\n",
        "<a name=\"working-with-data\"></a>\n",
        "### Working with Data\n",
        "- [Loading data: Drive, Sheets, and Google Cloud Storage](/notebooks/io.ipynb) \n",
        "- [Charts: visualizing data](/notebooks/charts.ipynb)\n",
        "- [Getting started with BigQuery](/notebooks/bigquery.ipynb)\n",
        "\n",
        "### Machine Learning Crash Course\n",
        "These are a few of the notebooks from Google's online Machine Learning course. See the [full course website](https://developers.google.com/machine-learning/crash-course/) for more.\n",
        "- [Intro to Pandas DataFrame](https://colab.research.google.com/github/google/eng-edu/blob/main/ml/cc/exercises/pandas_dataframe_ultraquick_tutorial.ipynb)\n",
        "- [Linear regression with tf.keras using synthetic data](https://colab.research.google.com/github/google/eng-edu/blob/main/ml/cc/exercises/linear_regression_with_synthetic_data.ipynb)\n",
        "\n",
        "\n",
        "<a name=\"using-accelerated-hardware\"></a>\n",
        "### Using Accelerated Hardware\n",
        "- [TensorFlow with GPUs](/notebooks/gpu.ipynb)\n",
        "- [TensorFlow with TPUs](/notebooks/tpu.ipynb)"
      ]
    },
    {
      "cell_type": "markdown",
      "metadata": {
        "id": "P-H6Lw1vyNNd"
      },
      "source": [
        "<a name=\"machine-learning-examples\"></a>\n",
        "\n",
        "## Machine Learning Examples\n",
        "\n",
        "To see end-to-end examples of the interactive machine learning analyses that Colaboratory makes possible, check out these  tutorials using models from [TensorFlow Hub](https://tfhub.dev).\n",
        "\n",
        "A few featured examples:\n",
        "\n",
        "- [Retraining an Image Classifier](https://tensorflow.org/hub/tutorials/tf2_image_retraining): Build a Keras model on top of a pre-trained image classifier to distinguish flowers.\n",
        "- [Text Classification](https://tensorflow.org/hub/tutorials/tf2_text_classification): Classify IMDB movie reviews as either *positive* or *negative*.\n",
        "- [Style Transfer](https://tensorflow.org/hub/tutorials/tf2_arbitrary_image_stylization): Use deep learning to transfer style between images.\n",
        "- [Multilingual Universal Sentence Encoder Q&A](https://tensorflow.org/hub/tutorials/retrieval_with_tf_hub_universal_encoder_qa): Use a machine learning model to answer questions from the SQuAD dataset.\n",
        "- [Video Interpolation](https://tensorflow.org/hub/tutorials/tweening_conv3d): Predict what happened in a video between the first and the last frame.\n"
      ]
    },
    {
      "cell_type": "code",
      "metadata": {
        "id": "fnC_3WRHxkpf"
      },
      "source": [
        "Learning objectives\n",
        "References\n",
        "Homework\n",
        "What is data cleaning?\n",
        "The data\n",
        "Import libraries\n",
        "Load the data\n",
        "Feature engineering\n",
        "Exercise #1\n",
        "Remove the housing price cap\n",
        "Exercise #2\n",
        "Convert strings to categories\n",
        "Exercise #3\n",
        "Dealing with missing values\n",
        "Exercise #4\n",
        "Getting rid of rows\n",
        "Exercise #5\n",
        "Getting rid of whole features\n",
        "Exercise #6\n",
        "Fill missing values\n",
        "Exercise #7\n",
        "Convert categories to numbers\n",
        "Save processed data to disk\n",
        "Binder slides\n",
        "\n",
        "Learning objectives\n",
        "Understand the main steps involved in preparing data for machine learning algorithms\n",
        "Create Python functions to automate steps of the data cleaning process\n",
        "Gain an introduction to matplotlib's object-oriented interface to combine plots on the same figure\n",
        "References\n",
        "This lesson draws heavily on the following textbook chapter:\n",
        "\n",
        "Chapter 2 of Hands-On Machine Learning with Scikit-Learn and TensorFlow by Aurèlien Geron\n",
        "You may also find the following blog posts useful:\n",
        "\n",
        "Machine Learning with Kaggle: Feature Engineering\n",
        "Sections 2 and 3 of Intermediate Machine Learning on Kaggle Learn\n",
        "Effectively Using Matplotlib by C. Moffitt\n",
        "Homework\n",
        "Solve the exercises included in this notebook\n",
        "Read chapter 3 of Data Science for Business by Provost & Fawcett\n",
        "What is data cleaning?\n",
        "\n",
        "When you receive a new dataset at the beginning of a project, the first task usually involves some form of data cleaning.\n",
        "\n",
        "To solve the task at hand, you might need data from multiple sources which you need to combine into one unified table. However, this is usually a tricky task; the different data sources might have different naming conventions, some of them might be human-generated, while others are automatic system reports. A list of things you usually have to go through are the following:\n",
        "\n",
        "Merge multiple sources into one table\n",
        "Remove duplicate entries\n",
        "Clean corrupted entries\n",
        "Handle missing data\n",
        "In lesson 2, we examined how to merge the table of housing data with their addresses; in this lesson we will focus on the remainign three steps.\n",
        "\n",
        "Although building algorithms that are able to classify data or estimate outcomes is arguably the most interesting part of data science, data cleaning is the one that takes up most of the time. According to a study by CrowdFlower, data scientists spend about 60-80% of their time preparing datasets for machine learning algorithms.\n",
        "\n",
        "\n",
        "The data\n",
        "In this lesson we will analyse the unified table of housing data and their addresses that we created in lesson 2:\n",
        "\n",
        "housing_merged.csv\n",
        "Import libraries\n",
        "As in previous lessons, we will be making use of the pandas and seaborn libraries.\n",
        "\n",
        "# reload modules before executing user code\n",
        "%load_ext autoreload\n",
        "# reload all modules every time before executing the Python code\n",
        "%autoreload 2\n",
        "# render plots in notebook\n",
        "%matplotlib inline\n",
        "# data wrangling\n",
        "import pandas as pd\n",
        "import numpy as np\n",
        "from pathlib import Path\n",
        "from dslectures.core import *\n",
        "\n",
        "# data viz\n",
        "import seaborn as sns\n",
        "import matplotlib.pyplot as plt\n",
        "import matplotlib.image as mpimg\n",
        "\n",
        "# these commands define the color scheme\n",
        "sns.set(color_codes=True)\n",
        "sns.set_palette(sns.color_palette('muted'))\n",
        "Load the data\n",
        "As usual, we can download our datasets using our helper function get_datasets:\n",
        "\n",
        "get_dataset('housing_merged.csv')\n",
        "Download of housing_merged.csv dataset complete.\n",
        "We also make use of the pathlib library to handle our filepaths:\n",
        "\n",
        "DATA = Path('../data/')\n",
        "!ls {DATA}\n",
        "housing.csv                housing_merged.csv\n",
        "housing_addresses.csv      housing_processed.csv\n",
        "housing_backup.csv         imdb.csv\n",
        "housing_gmaps_data_raw.csv uc\n",
        "housing_data = pd.read_csv(DATA/'housing_merged.csv'); housing_data.head()\n",
        "longitude\tlatitude\thousing_median_age\ttotal_rooms\ttotal_bedrooms\tpopulation\thouseholds\tmedian_income\tmedian_house_value\tocean_proximity\tstreet_number\tstreet_name\tcity\tpostal_code\n",
        "0\t-122.23\t37.88\t41.0\t880.0\t129.0\t322.0\t126.0\t8.3252\t452600.0\tNEAR BAY\t3130\tGrizzly Peak Boulevard\tBerkeley\t94705.0\n",
        "1\t-122.22\t37.86\t21.0\t7099.0\t1106.0\t2401.0\t1138.0\t8.3014\t358500.0\tNEAR BAY\t2005\tTunnel Road\tOakland\t94611.0\n",
        "2\t-122.24\t37.85\t52.0\t1467.0\t190.0\t496.0\t177.0\t7.2574\t352100.0\tNEAR BAY\t6886\tChabot Road\tOakland\t94618.0\n",
        "3\t-122.25\t37.85\t52.0\t1274.0\t235.0\t558.0\t219.0\t5.6431\t341300.0\tNEAR BAY\t6365\tFlorio Street\tOakland\t94618.0\n",
        "4\t-122.25\t37.85\t52.0\t1627.0\t280.0\t565.0\t259.0\t3.8462\t342200.0\tNEAR BAY\t6365\tFlorio Street\tOakland\t94618.0\n",
        "Feature engineering\n",
        "Before we prepare the data for training machine learning models, it is useful to experiment with creating new features (i.e. columns) that may provide more information than the raw data alone. For example the column total_rooms refers to the total number of rooms in a housing district, and thus it is more useful to know the number of rooms per household. In pandas, we can create this new column as follows:\n",
        "\n",
        "housing_data['rooms_per_household'] = housing_data['total_rooms'] / housing_data['households']\n",
        "# check we have added the column\n",
        "housing_data.head(1)\n",
        "longitude\tlatitude\thousing_median_age\ttotal_rooms\ttotal_bedrooms\tpopulation\thouseholds\tmedian_income\tmedian_house_value\tocean_proximity\tstreet_number\tstreet_name\tcity\tpostal_code\trooms_per_household\n",
        "0\t-122.23\t37.88\t41.0\t880.0\t129.0\t322.0\t126.0\t8.3252\t452600.0\tNEAR BAY\t3130\tGrizzly Peak Boulevard\tBerkeley\t94705.0\t6.984127\n",
        "Exercise #1\n",
        "Create a new feature called bedrooms_per_household from the total_bedrooms and households features\n",
        "Create a new feature called bedrooms_per_room from the total_bedrooms and total_rooms features\n",
        "Create a new feature called population_per_household from the population and households features\n",
        "Recalculate the correlation matrix from lesson 1 - what can you conclude about the correlation of the new features with the median house value?\n",
        "Remove the housing price cap\n",
        "Recall from lesson 1 that the quantity we wish to predict (median house value) has a cap around $500,000:\n",
        "\n",
        "# use plt.subplots() to create multiple plots\n",
        "fig, (ax0, ax1) = plt.subplots(nrows=1, ncols=2, figsize=(7, 4))\n",
        "# put one plot on axis ax0\n",
        "sns.distplot(housing_data[\"median_house_value\"], kde=False, ax=ax0)\n",
        "# put second plot on axis ax1\n",
        "sns.scatterplot(\"median_income\", \"median_house_value\", data=housing_data, ax=ax1)\n",
        "# tight_layout() fixes spacing between plots\n",
        "fig.tight_layout()\n",
        "\n",
        " Tip: Up until now, we have always made individual plots to visualise the data. The example above shows how matplotlib can be used to show two plots on the same figure! See the Effectively Using Matplotlib link in the references for more information.\n",
        "The presence of this cap is potentially problematic since our machine learning algorithms may learn that the housing prices never go beyond that limit. Let's assume that we want to predict housing prices above $500,000, in which case we should remove these districts from the dataset.\n",
        "\n",
        "Exercise #2\n",
        "Store the number of rows in housing_data in a variable called n_rows_raw\n",
        "Use the DataFrame.loc[] method to remove all rows where median_house_value is greater than or equal to $500,000\n",
        "Calculate the fraction of data that has been removed by this filter.\n",
        "Create new histogram and scatter plots to make sure you have removed the capped values correctly.\n",
        "Convert strings to categories\n",
        "If we inspect the data types associated with our housing pandas.DataFrame\n",
        "\n",
        "housing_data.dtypes\n",
        "longitude                   float64\n",
        "latitude                    float64\n",
        "housing_median_age          float64\n",
        "total_rooms                 float64\n",
        "total_bedrooms              float64\n",
        "population                  float64\n",
        "households                  float64\n",
        "median_income               float64\n",
        "median_house_value          float64\n",
        "ocean_proximity              object\n",
        "street_number                object\n",
        "street_name                  object\n",
        "city                         object\n",
        "postal_code                 float64\n",
        "rooms_per_household         float64\n",
        "bedrooms_per_household      float64\n",
        "bedrooms_per_room           float64\n",
        "population_per_household    float64\n",
        "dtype: object\n",
        "we see that in addition to numerical features, we have features of object data type, which pandas denotes with the string O:\n",
        "\n",
        "housing_data['ocean_proximity'].dtype\n",
        "dtype('O')\n",
        "# compare against numerical column\n",
        "housing_data['median_house_value'].dtype\n",
        "dtype('float64')\n",
        "pandas has a handy set of functions to test the data type of each column. For example, to check whether a column is of object or numeric type we can import the following functions\n",
        "\n",
        "from pandas.api.types import is_object_dtype, is_numeric_dtype\n",
        "and then test them against some columns:\n",
        "\n",
        "is_object_dtype(housing_data['ocean_proximity'])\n",
        "True\n",
        "is_numeric_dtype(housing_data['ocean_proximity'])\n",
        "False\n",
        "is_numeric_dtype(housing_data['median_house_value'])\n",
        "True\n",
        "In this case, we know these columns are strings and some step is needed to convert them to numerical form because most machine learning algorithms are best suited for doing computations on arrays of numbers, not strings.\n",
        "\n",
        "pandas has a special Categorical type for holding data that uses the integer-based categorical representation or encoding. For example housing_data['ocean_proximity'] is a pandas.Series of Python string objects ['NEAR BAY', '<1H OCEAN', 'INLAND', 'NEAR OCEAN', 'ISLAND']. We can convert a pandas.DataFrame column to categorical as follows:\n",
        "\n",
        "housing_data['ocean_proximity'] = housing_data['ocean_proximity'].astype('category')\n",
        "The resulting Categorical object has categories and codes attributes that can be accessed as follows:\n",
        "\n",
        "housing_data['ocean_proximity'].cat.categories\n",
        "Index(['<1H OCEAN', 'INLAND', 'ISLAND', 'NEAR BAY', 'NEAR OCEAN'], dtype='object')\n",
        "housing_data['ocean_proximity'].cat.codes\n",
        "0        3\n",
        "1        3\n",
        "2        3\n",
        "3        3\n",
        "4        3\n",
        "        ..\n",
        "20635    1\n",
        "20636    1\n",
        "20637    1\n",
        "20638    1\n",
        "20639    1\n",
        "Length: 19648, dtype: int8\n",
        " Note: pandas will display Categorical features as text and treat them internally as numerical.\n",
        "Sometimes we may want to reorder by hand the categorical variables. For example, with our ocean_proximity feature, it makes more sense to order the categories by distance to the ocean:\n",
        "\n",
        "housing_data[\"ocean_proximity\"].cat.set_categories(\n",
        "    [\"INLAND\", \"<1H OCEAN\", \"NEAR BAY\", \"NEAR OCEAN\", \"ISLAND\"], ordered=True, inplace=True\n",
        ")\n",
        " Tip: Instead of doing each data cleaning step manually, it is a good idea to write functions that automate the process. The main benefits from doing so is that you will be able to reproduce your results at a later date and can reuse the functions in future projects. The exercise below is desiged to help you create your first data cleaning function!\n",
        "Exercise #3\n",
        "Create a function called convert_strings_to_categories that takes a pandas.DataFrame as an argument and converts all columns of object type into Categorical. Note that the operation can be done in-place and thus your function should not return any objects. You may find the commands DataFrame.columns and is_numeric_dtype are useful.\n",
        "Check that the transformed housing_data has the expected data types.\n",
        "Dealing with missing values\n",
        "In general, machine learning algorithms will fail to work with missing data, and in general you have three options to handle them:\n",
        "\n",
        "Get rid of the corresponding rows\n",
        "Get rid of the whole feature or column\n",
        "Replace the missing values with some value like zero or the mean, median of the column.\n",
        "A quick way to check if there's any missing data is to run the pandas DataFrame.info() method:\n",
        "\n",
        "housing_data.info()\n",
        "<class 'pandas.core.frame.DataFrame'>\n",
        "Int64Index: 19648 entries, 0 to 20639\n",
        "Data columns (total 18 columns):\n",
        " #   Column                    Non-Null Count  Dtype   \n",
        "---  ------                    --------------  -----   \n",
        " 0   longitude                 19648 non-null  float64 \n",
        " 1   latitude                  19648 non-null  float64 \n",
        " 2   housing_median_age        19648 non-null  float64 \n",
        " 3   total_rooms               19648 non-null  float64 \n",
        " 4   total_bedrooms            19448 non-null  float64 \n",
        " 5   population                19648 non-null  float64 \n",
        " 6   households                19648 non-null  float64 \n",
        " 7   median_income             19648 non-null  float64 \n",
        " 8   median_house_value        19648 non-null  float64 \n",
        " 9   ocean_proximity           19648 non-null  category\n",
        " 10  street_number             18112 non-null  category\n",
        " 11  street_name               19144 non-null  category\n",
        " 12  city                      19488 non-null  category\n",
        " 13  postal_code               19492 non-null  float64 \n",
        " 14  rooms_per_household       19648 non-null  float64 \n",
        " 15  bedrooms_per_household    19448 non-null  float64 \n",
        " 16  bedrooms_per_room         19448 non-null  float64 \n",
        " 17  population_per_household  19648 non-null  float64 \n",
        "dtypes: category(4), float64(14)\n",
        "memory usage: 3.2 MB\n",
        "Since housing_data has 20,640 rows we see that the following columns are missing values:\n",
        "\n",
        "total_bedrooms\n",
        "street_number\n",
        "street_name\n",
        "city\n",
        "postal_code\n",
        "bedrooms_per_household\n",
        "bedrooms_per_room\n",
        "An alternative way to verify this is to apply the DataFrame.isnull() method and calculate the sum of missing values in housing_data:\n",
        "\n",
        "housing_data.isnull().sum()\n",
        "longitude                      0\n",
        "latitude                       0\n",
        "housing_median_age             0\n",
        "total_rooms                    0\n",
        "total_bedrooms               200\n",
        "population                     0\n",
        "households                     0\n",
        "median_income                  0\n",
        "median_house_value             0\n",
        "ocean_proximity                0\n",
        "street_number               1536\n",
        "street_name                  504\n",
        "city                         160\n",
        "postal_code                  156\n",
        "rooms_per_household            0\n",
        "bedrooms_per_household       200\n",
        "bedrooms_per_room            200\n",
        "population_per_household       0\n",
        "dtype: int64\n",
        "Exercise #4\n",
        "It is often more informative to know the fraction or percentage of missing values in a pandas.DataFrame.\n",
        "\n",
        "Calculate the fraction of missing values in housing_data and sort them in descending order.\n",
        "Use seaborn to create a bar plot that shows the fraction of missing data that you calculated above.\n",
        "Getting rid of rows\n",
        "Let's look at our first option to handle missing data: getting rid of rows. One candidate for this is the city column since dropping the 188 rows amounts to less than 1% of the total dataset. To achieve this we can use the DataFrame.dropna() method as follows:\n",
        "\n",
        "housing_data.dropna(subset=['city'], inplace=True)\n",
        "# check city has no missing values\n",
        "housing_data['city'].isnull().sum()\n",
        "0\n",
        "Exercise #5\n",
        "Use the same technique as above to remove the rows whether the postal_code values are missing\n",
        "Use the Series.astype() method to convert the postal_code to int type\n",
        "Getting rid of whole features\n",
        "We still have missing values for the categorical features street_number and street_name. For such data one simple approach is to replace the missing values with the most frequent entry. However, for these specific attributes it does not make much sense to replace e.g. the missing street names with the most common ones in some other city.\n",
        "\n",
        "To that end, we will drop the street_number and street_name columns.\n",
        "\n",
        "Exercise #6\n",
        "Drop the street_number, street_name and postal_code columns from housing_data\n",
        "\n",
        "Fill missing values\n",
        "For the numerical columns, let's replace the missing values by the median.\n",
        "\n",
        " Note: We choose the median since it is more robust to outliers than the mean, but in general one should experiment with different combinations.\n",
        "For example, with total_bedrooms this might look like the following:\n",
        "\n",
        "# calculate median total number of bedrooms\n",
        "total_bedrooms_median = housing_data['total_bedrooms'].median()\n",
        "# use inplace=True to make replacement in place\n",
        "housing_data['total_bedrooms'].fillna(total_bedrooms_median, inplace=True)\n",
        "# check replacement worked\n",
        "housing_data['total_bedrooms'].isnull().sum()\n",
        "0\n",
        "Although doing this replacement manually for each numerical column is feasible for this small dataset, it would be much better to have a function that automates this process.\n",
        "\n",
        "Exercise #7\n",
        "Create a function called fill_missing_values_with_median that takes a pandas.DataFrame as an argument and replaces missing values in each column with the median. Note that the operation can be don in-place, so your function should not return any objects. You may find the command is_numeric_dtype to be useful.\n",
        "Check that missing values are filled in the transformed pandas.DataFrame.\n",
        "Convert categories to numbers\n",
        "We've now reached the stage where we have a cleaned pandas.DataFrame and the final step is to convert our categorical columns to numerical form. For example, we can numericalise the city column by replacing the categories with their corresponding codes:\n",
        "\n",
        "# add +1 so codes start from 1\n",
        "housing_data['city'] = housing_data['city'].cat.codes + 1\n",
        "# check output\n",
        "housing_data.head(1)\n",
        "longitude\tlatitude\thousing_median_age\ttotal_rooms\ttotal_bedrooms\tpopulation\thouseholds\tmedian_income\tmedian_house_value\tocean_proximity\tcity\tpostal_code\trooms_per_household\tbedrooms_per_household\tbedrooms_per_room\tpopulation_per_household\n",
        "0\t-122.23\t37.88\t41.0\t880.0\t129.0\t322.0\t126.0\t8.3252\t452600.0\tNEAR BAY\t69\t94705\t6.984127\t1.02381\t0.146591\t2.555556\n",
        "One potential problem with the above representation is that machine learning algorithms will treat two cities that are numerically close to each other as being similar. Thus an alternative approach is to apply a technique known as one-hot encoding, where we create a binary feature per category. In pandas we can do this by simply running pandas.get_dummies():\n",
        "\n",
        "housing_data = pd.get_dummies(housing_data)\n",
        "housing_data.head()\n",
        "longitude\tlatitude\thousing_median_age\ttotal_rooms\ttotal_bedrooms\tpopulation\thouseholds\tmedian_income\tmedian_house_value\tcity\tpostal_code\trooms_per_household\tbedrooms_per_household\tbedrooms_per_room\tpopulation_per_household\tocean_proximity_INLAND\tocean_proximity_<1H OCEAN\tocean_proximity_NEAR BAY\tocean_proximity_NEAR OCEAN\tocean_proximity_ISLAND\n",
        "0\t-122.23\t37.88\t41.0\t880.0\t129.0\t322.0\t126.0\t8.3252\t452600.0\t69\t94705\t6.984127\t1.023810\t0.146591\t2.555556\t0\t0\t1\t0\t0\n",
        "1\t-122.22\t37.86\t21.0\t7099.0\t1106.0\t2401.0\t1138.0\t8.3014\t358500.0\t620\t94611\t6.238137\t0.971880\t0.155797\t2.109842\t0\t0\t1\t0\t0\n",
        "2\t-122.24\t37.85\t52.0\t1467.0\t190.0\t496.0\t177.0\t7.2574\t352100.0\t620\t94618\t8.288136\t1.073446\t0.129516\t2.802260\t0\t0\t1\t0\t0\n",
        "3\t-122.25\t37.85\t52.0\t1274.0\t235.0\t558.0\t219.0\t5.6431\t341300.0\t620\t94618\t5.817352\t1.073059\t0.184458\t2.547945\t0\t0\t1\t0\t0\n",
        "4\t-122.25\t37.85\t52.0\t1627.0\t280.0\t565.0\t259.0\t3.8462\t342200.0\t620\t94618\t6.281853\t1.081081\t0.172096\t2.181467\t0\t0\t1\t0\t0\n",
        "Note that the above has converted our ocean_proximity column into one new column per category!\n",
        "\n",
        " Note: For columns with hundreds or thousands of categories, one-hot encoding may not be ideal as it will create a large number of columns and slow down the training phase of your analysis. For this reason we did not one-hot encode the city or post_code columns, even though they are strictly categorical.\n",
        "# sanity check\n",
        "housing_data.info()\n",
        "<class 'pandas.core.frame.DataFrame'>\n",
        "Int64Index: 19443 entries, 0 to 20639\n",
        "Data columns (total 20 columns):\n",
        " #   Column                      Non-Null Count  Dtype  \n",
        "---  ------                      --------------  -----  \n",
        " 0   longitude                   19443 non-null  float64\n",
        " 1   latitude                    19443 non-null  float64\n",
        " 2   housing_median_age          19443 non-null  float64\n",
        " 3   total_rooms                 19443 non-null  float64\n",
        " 4   total_bedrooms              19443 non-null  float64\n",
        " 5   population                  19443 non-null  float64\n",
        " 6   households                  19443 non-null  float64\n",
        " 7   median_income               19443 non-null  float64\n",
        " 8   median_house_value          19443 non-null  float64\n",
        " 9   city                        19443 non-null  int16  \n",
        " 10  postal_code                 19443 non-null  int64  \n",
        " 11  rooms_per_household         19443 non-null  float64\n",
        " 12  bedrooms_per_household      19443 non-null  float64\n",
        " 13  bedrooms_per_room           19443 non-null  float64\n",
        " 14  population_per_household    19443 non-null  float64\n",
        " 15  ocean_proximity_INLAND      19443 non-null  uint8  \n",
        " 16  ocean_proximity_<1H OCEAN   19443 non-null  uint8  \n",
        " 17  ocean_proximity_NEAR BAY    19443 non-null  uint8  \n",
        " 18  ocean_proximity_NEAR OCEAN  19443 non-null  uint8  \n",
        " 19  ocean_proximity_ISLAND      19443 non-null  uint8  \n",
        "dtypes: float64(13), int16(1), int64(1), uint8(5)\n",
        "memory usage: 2.4 MB\n",
        "Save processed data to disk\n",
        "housing_data.to_csv(DATA/'housing_processed.csv', index=False)"
      ],
      "execution_count": null,
      "outputs": []
    },
    {
      "cell_type": "code",
      "metadata": {
        "id": "rrBscghHzpc0"
      },
      "source": [
        "import numpy as np\n",
        "import pandas as pd"
      ],
      "execution_count": null,
      "outputs": []
    },
    {
      "cell_type": "code",
      "metadata": {
        "id": "KaQIHUlyzpfi",
        "colab": {
          "base_uri": "https://localhost:8080/",
          "height": 380
        },
        "outputId": "41f8f6bc-3b36-4725-c7ec-25ece4527660"
      },
      "source": [
        "\n",
        "url='C:/Users/user/Documents/GitHub/AI-ML-Algorithms-for-Business-Applications/Datasets/NSE Stocks 22-Nov-2021.xlsx'\n",
        "nse_data = pd.read_excel(url)"
      ],
      "execution_count": null,
      "outputs": [
        {
          "output_type": "error",
          "ename": "FileNotFoundError",
          "evalue": "ignored",
          "traceback": [
            "\u001b[0;31m---------------------------------------------------------------------------\u001b[0m",
            "\u001b[0;31mFileNotFoundError\u001b[0m                         Traceback (most recent call last)",
            "\u001b[0;32m<ipython-input-4-b23ef74cfc31>\u001b[0m in \u001b[0;36m<module>\u001b[0;34m()\u001b[0m\n\u001b[1;32m      1\u001b[0m \u001b[0;34m\u001b[0m\u001b[0m\n\u001b[1;32m      2\u001b[0m \u001b[0murl\u001b[0m\u001b[0;34m=\u001b[0m\u001b[0;34m'C:/Users/user/Documents/GitHub/AI-ML-Algorithms-for-Business-Applications/Datasets/NSE Stocks 22-Nov-2021.xlsx'\u001b[0m\u001b[0;34m\u001b[0m\u001b[0;34m\u001b[0m\u001b[0m\n\u001b[0;32m----> 3\u001b[0;31m \u001b[0mnse_data\u001b[0m \u001b[0;34m=\u001b[0m \u001b[0mpd\u001b[0m\u001b[0;34m.\u001b[0m\u001b[0mread_excel\u001b[0m\u001b[0;34m(\u001b[0m\u001b[0murl\u001b[0m\u001b[0;34m)\u001b[0m\u001b[0;34m\u001b[0m\u001b[0;34m\u001b[0m\u001b[0m\n\u001b[0m",
            "\u001b[0;32m/usr/local/lib/python3.7/dist-packages/pandas/util/_decorators.py\u001b[0m in \u001b[0;36mwrapper\u001b[0;34m(*args, **kwargs)\u001b[0m\n\u001b[1;32m    294\u001b[0m                 )\n\u001b[1;32m    295\u001b[0m                 \u001b[0mwarnings\u001b[0m\u001b[0;34m.\u001b[0m\u001b[0mwarn\u001b[0m\u001b[0;34m(\u001b[0m\u001b[0mmsg\u001b[0m\u001b[0;34m,\u001b[0m \u001b[0mFutureWarning\u001b[0m\u001b[0;34m,\u001b[0m \u001b[0mstacklevel\u001b[0m\u001b[0;34m=\u001b[0m\u001b[0mstacklevel\u001b[0m\u001b[0;34m)\u001b[0m\u001b[0;34m\u001b[0m\u001b[0;34m\u001b[0m\u001b[0m\n\u001b[0;32m--> 296\u001b[0;31m             \u001b[0;32mreturn\u001b[0m \u001b[0mfunc\u001b[0m\u001b[0;34m(\u001b[0m\u001b[0;34m*\u001b[0m\u001b[0margs\u001b[0m\u001b[0;34m,\u001b[0m \u001b[0;34m**\u001b[0m\u001b[0mkwargs\u001b[0m\u001b[0;34m)\u001b[0m\u001b[0;34m\u001b[0m\u001b[0;34m\u001b[0m\u001b[0m\n\u001b[0m\u001b[1;32m    297\u001b[0m \u001b[0;34m\u001b[0m\u001b[0m\n\u001b[1;32m    298\u001b[0m         \u001b[0;32mreturn\u001b[0m \u001b[0mwrapper\u001b[0m\u001b[0;34m\u001b[0m\u001b[0;34m\u001b[0m\u001b[0m\n",
            "\u001b[0;32m/usr/local/lib/python3.7/dist-packages/pandas/io/excel/_base.py\u001b[0m in \u001b[0;36mread_excel\u001b[0;34m(io, sheet_name, header, names, index_col, usecols, squeeze, dtype, engine, converters, true_values, false_values, skiprows, nrows, na_values, keep_default_na, na_filter, verbose, parse_dates, date_parser, thousands, comment, skipfooter, convert_float, mangle_dupe_cols)\u001b[0m\n\u001b[1;32m    302\u001b[0m \u001b[0;34m\u001b[0m\u001b[0m\n\u001b[1;32m    303\u001b[0m     \u001b[0;32mif\u001b[0m \u001b[0;32mnot\u001b[0m \u001b[0misinstance\u001b[0m\u001b[0;34m(\u001b[0m\u001b[0mio\u001b[0m\u001b[0;34m,\u001b[0m \u001b[0mExcelFile\u001b[0m\u001b[0;34m)\u001b[0m\u001b[0;34m:\u001b[0m\u001b[0;34m\u001b[0m\u001b[0;34m\u001b[0m\u001b[0m\n\u001b[0;32m--> 304\u001b[0;31m         \u001b[0mio\u001b[0m \u001b[0;34m=\u001b[0m \u001b[0mExcelFile\u001b[0m\u001b[0;34m(\u001b[0m\u001b[0mio\u001b[0m\u001b[0;34m,\u001b[0m \u001b[0mengine\u001b[0m\u001b[0;34m=\u001b[0m\u001b[0mengine\u001b[0m\u001b[0;34m)\u001b[0m\u001b[0;34m\u001b[0m\u001b[0;34m\u001b[0m\u001b[0m\n\u001b[0m\u001b[1;32m    305\u001b[0m     \u001b[0;32melif\u001b[0m \u001b[0mengine\u001b[0m \u001b[0;32mand\u001b[0m \u001b[0mengine\u001b[0m \u001b[0;34m!=\u001b[0m \u001b[0mio\u001b[0m\u001b[0;34m.\u001b[0m\u001b[0mengine\u001b[0m\u001b[0;34m:\u001b[0m\u001b[0;34m\u001b[0m\u001b[0;34m\u001b[0m\u001b[0m\n\u001b[1;32m    306\u001b[0m         raise ValueError(\n",
            "\u001b[0;32m/usr/local/lib/python3.7/dist-packages/pandas/io/excel/_base.py\u001b[0m in \u001b[0;36m__init__\u001b[0;34m(self, path_or_buffer, engine)\u001b[0m\n\u001b[1;32m    865\u001b[0m         \u001b[0mself\u001b[0m\u001b[0;34m.\u001b[0m\u001b[0m_io\u001b[0m \u001b[0;34m=\u001b[0m \u001b[0mstringify_path\u001b[0m\u001b[0;34m(\u001b[0m\u001b[0mpath_or_buffer\u001b[0m\u001b[0;34m)\u001b[0m\u001b[0;34m\u001b[0m\u001b[0;34m\u001b[0m\u001b[0m\n\u001b[1;32m    866\u001b[0m \u001b[0;34m\u001b[0m\u001b[0m\n\u001b[0;32m--> 867\u001b[0;31m         \u001b[0mself\u001b[0m\u001b[0;34m.\u001b[0m\u001b[0m_reader\u001b[0m \u001b[0;34m=\u001b[0m \u001b[0mself\u001b[0m\u001b[0;34m.\u001b[0m\u001b[0m_engines\u001b[0m\u001b[0;34m[\u001b[0m\u001b[0mengine\u001b[0m\u001b[0;34m]\u001b[0m\u001b[0;34m(\u001b[0m\u001b[0mself\u001b[0m\u001b[0;34m.\u001b[0m\u001b[0m_io\u001b[0m\u001b[0;34m)\u001b[0m\u001b[0;34m\u001b[0m\u001b[0;34m\u001b[0m\u001b[0m\n\u001b[0m\u001b[1;32m    868\u001b[0m \u001b[0;34m\u001b[0m\u001b[0m\n\u001b[1;32m    869\u001b[0m     \u001b[0;32mdef\u001b[0m \u001b[0m__fspath__\u001b[0m\u001b[0;34m(\u001b[0m\u001b[0mself\u001b[0m\u001b[0;34m)\u001b[0m\u001b[0;34m:\u001b[0m\u001b[0;34m\u001b[0m\u001b[0;34m\u001b[0m\u001b[0m\n",
            "\u001b[0;32m/usr/local/lib/python3.7/dist-packages/pandas/io/excel/_xlrd.py\u001b[0m in \u001b[0;36m__init__\u001b[0;34m(self, filepath_or_buffer)\u001b[0m\n\u001b[1;32m     20\u001b[0m         \u001b[0merr_msg\u001b[0m \u001b[0;34m=\u001b[0m \u001b[0;34m\"Install xlrd >= 1.0.0 for Excel support\"\u001b[0m\u001b[0;34m\u001b[0m\u001b[0;34m\u001b[0m\u001b[0m\n\u001b[1;32m     21\u001b[0m         \u001b[0mimport_optional_dependency\u001b[0m\u001b[0;34m(\u001b[0m\u001b[0;34m\"xlrd\"\u001b[0m\u001b[0;34m,\u001b[0m \u001b[0mextra\u001b[0m\u001b[0;34m=\u001b[0m\u001b[0merr_msg\u001b[0m\u001b[0;34m)\u001b[0m\u001b[0;34m\u001b[0m\u001b[0;34m\u001b[0m\u001b[0m\n\u001b[0;32m---> 22\u001b[0;31m         \u001b[0msuper\u001b[0m\u001b[0;34m(\u001b[0m\u001b[0;34m)\u001b[0m\u001b[0;34m.\u001b[0m\u001b[0m__init__\u001b[0m\u001b[0;34m(\u001b[0m\u001b[0mfilepath_or_buffer\u001b[0m\u001b[0;34m)\u001b[0m\u001b[0;34m\u001b[0m\u001b[0;34m\u001b[0m\u001b[0m\n\u001b[0m\u001b[1;32m     23\u001b[0m \u001b[0;34m\u001b[0m\u001b[0m\n\u001b[1;32m     24\u001b[0m     \u001b[0;34m@\u001b[0m\u001b[0mproperty\u001b[0m\u001b[0;34m\u001b[0m\u001b[0;34m\u001b[0m\u001b[0m\n",
            "\u001b[0;32m/usr/local/lib/python3.7/dist-packages/pandas/io/excel/_base.py\u001b[0m in \u001b[0;36m__init__\u001b[0;34m(self, filepath_or_buffer)\u001b[0m\n\u001b[1;32m    351\u001b[0m             \u001b[0mself\u001b[0m\u001b[0;34m.\u001b[0m\u001b[0mbook\u001b[0m \u001b[0;34m=\u001b[0m \u001b[0mself\u001b[0m\u001b[0;34m.\u001b[0m\u001b[0mload_workbook\u001b[0m\u001b[0;34m(\u001b[0m\u001b[0mfilepath_or_buffer\u001b[0m\u001b[0;34m)\u001b[0m\u001b[0;34m\u001b[0m\u001b[0;34m\u001b[0m\u001b[0m\n\u001b[1;32m    352\u001b[0m         \u001b[0;32melif\u001b[0m \u001b[0misinstance\u001b[0m\u001b[0;34m(\u001b[0m\u001b[0mfilepath_or_buffer\u001b[0m\u001b[0;34m,\u001b[0m \u001b[0mstr\u001b[0m\u001b[0;34m)\u001b[0m\u001b[0;34m:\u001b[0m\u001b[0;34m\u001b[0m\u001b[0;34m\u001b[0m\u001b[0m\n\u001b[0;32m--> 353\u001b[0;31m             \u001b[0mself\u001b[0m\u001b[0;34m.\u001b[0m\u001b[0mbook\u001b[0m \u001b[0;34m=\u001b[0m \u001b[0mself\u001b[0m\u001b[0;34m.\u001b[0m\u001b[0mload_workbook\u001b[0m\u001b[0;34m(\u001b[0m\u001b[0mfilepath_or_buffer\u001b[0m\u001b[0;34m)\u001b[0m\u001b[0;34m\u001b[0m\u001b[0;34m\u001b[0m\u001b[0m\n\u001b[0m\u001b[1;32m    354\u001b[0m         \u001b[0;32melif\u001b[0m \u001b[0misinstance\u001b[0m\u001b[0;34m(\u001b[0m\u001b[0mfilepath_or_buffer\u001b[0m\u001b[0;34m,\u001b[0m \u001b[0mbytes\u001b[0m\u001b[0;34m)\u001b[0m\u001b[0;34m:\u001b[0m\u001b[0;34m\u001b[0m\u001b[0;34m\u001b[0m\u001b[0m\n\u001b[1;32m    355\u001b[0m             \u001b[0mself\u001b[0m\u001b[0;34m.\u001b[0m\u001b[0mbook\u001b[0m \u001b[0;34m=\u001b[0m \u001b[0mself\u001b[0m\u001b[0;34m.\u001b[0m\u001b[0mload_workbook\u001b[0m\u001b[0;34m(\u001b[0m\u001b[0mBytesIO\u001b[0m\u001b[0;34m(\u001b[0m\u001b[0mfilepath_or_buffer\u001b[0m\u001b[0;34m)\u001b[0m\u001b[0;34m)\u001b[0m\u001b[0;34m\u001b[0m\u001b[0;34m\u001b[0m\u001b[0m\n",
            "\u001b[0;32m/usr/local/lib/python3.7/dist-packages/pandas/io/excel/_xlrd.py\u001b[0m in \u001b[0;36mload_workbook\u001b[0;34m(self, filepath_or_buffer)\u001b[0m\n\u001b[1;32m     35\u001b[0m             \u001b[0;32mreturn\u001b[0m \u001b[0mopen_workbook\u001b[0m\u001b[0;34m(\u001b[0m\u001b[0mfile_contents\u001b[0m\u001b[0;34m=\u001b[0m\u001b[0mdata\u001b[0m\u001b[0;34m)\u001b[0m\u001b[0;34m\u001b[0m\u001b[0;34m\u001b[0m\u001b[0m\n\u001b[1;32m     36\u001b[0m         \u001b[0;32melse\u001b[0m\u001b[0;34m:\u001b[0m\u001b[0;34m\u001b[0m\u001b[0;34m\u001b[0m\u001b[0m\n\u001b[0;32m---> 37\u001b[0;31m             \u001b[0;32mreturn\u001b[0m \u001b[0mopen_workbook\u001b[0m\u001b[0;34m(\u001b[0m\u001b[0mfilepath_or_buffer\u001b[0m\u001b[0;34m)\u001b[0m\u001b[0;34m\u001b[0m\u001b[0;34m\u001b[0m\u001b[0m\n\u001b[0m\u001b[1;32m     38\u001b[0m \u001b[0;34m\u001b[0m\u001b[0m\n\u001b[1;32m     39\u001b[0m     \u001b[0;34m@\u001b[0m\u001b[0mproperty\u001b[0m\u001b[0;34m\u001b[0m\u001b[0;34m\u001b[0m\u001b[0m\n",
            "\u001b[0;32m/usr/local/lib/python3.7/dist-packages/xlrd/__init__.py\u001b[0m in \u001b[0;36mopen_workbook\u001b[0;34m(filename, logfile, verbosity, use_mmap, file_contents, encoding_override, formatting_info, on_demand, ragged_rows)\u001b[0m\n\u001b[1;32m    114\u001b[0m         \u001b[0mpeek\u001b[0m \u001b[0;34m=\u001b[0m \u001b[0mfile_contents\u001b[0m\u001b[0;34m[\u001b[0m\u001b[0;34m:\u001b[0m\u001b[0mpeeksz\u001b[0m\u001b[0;34m]\u001b[0m\u001b[0;34m\u001b[0m\u001b[0;34m\u001b[0m\u001b[0m\n\u001b[1;32m    115\u001b[0m     \u001b[0;32melse\u001b[0m\u001b[0;34m:\u001b[0m\u001b[0;34m\u001b[0m\u001b[0;34m\u001b[0m\u001b[0m\n\u001b[0;32m--> 116\u001b[0;31m         \u001b[0;32mwith\u001b[0m \u001b[0mopen\u001b[0m\u001b[0;34m(\u001b[0m\u001b[0mfilename\u001b[0m\u001b[0;34m,\u001b[0m \u001b[0;34m\"rb\"\u001b[0m\u001b[0;34m)\u001b[0m \u001b[0;32mas\u001b[0m \u001b[0mf\u001b[0m\u001b[0;34m:\u001b[0m\u001b[0;34m\u001b[0m\u001b[0;34m\u001b[0m\u001b[0m\n\u001b[0m\u001b[1;32m    117\u001b[0m             \u001b[0mpeek\u001b[0m \u001b[0;34m=\u001b[0m \u001b[0mf\u001b[0m\u001b[0;34m.\u001b[0m\u001b[0mread\u001b[0m\u001b[0;34m(\u001b[0m\u001b[0mpeeksz\u001b[0m\u001b[0;34m)\u001b[0m\u001b[0;34m\u001b[0m\u001b[0;34m\u001b[0m\u001b[0m\n\u001b[1;32m    118\u001b[0m     \u001b[0;32mif\u001b[0m \u001b[0mpeek\u001b[0m \u001b[0;34m==\u001b[0m \u001b[0;34mb\"PK\\x03\\x04\"\u001b[0m\u001b[0;34m:\u001b[0m \u001b[0;31m# a ZIP file\u001b[0m\u001b[0;34m\u001b[0m\u001b[0;34m\u001b[0m\u001b[0m\n",
            "\u001b[0;31mFileNotFoundError\u001b[0m: [Errno 2] No such file or directory: 'C:/Users/user/Documents/GitHub/AI-ML-Algorithms-for-Business-Applications/Datasets/NSE Stocks 22-Nov-2021.xlsx'"
          ]
        }
      ]
    },
    {
      "cell_type": "code",
      "metadata": {
        "id": "TUjgH83xzph0"
      },
      "source": [
        "import pandas as pd\n",
        "import numpy as np\n",
        "students_df = pd.DataFrame(\n",
        " {\n",
        " \"Students\": [\n",
        " \"Rohit, Mr. Rohit\",\n",
        " \"Jyothula, Mr. Sougandh\",\n",
        " \"Mary, Miss. Sajitha\",\n",
        " \"J, Miss. Nehal\",\n",
        " \"Vaibhav, Mr. Vaibhav\",\n",
        " \"Priyanka, Miss. Mira\",\n",
        " ],\n",
        "\"Group\": [ \"P2\", \"P2\", \"P2\", \"P1\", \"P2\", \"p1\"],\n",
        "\"Gender\" : [\"Male\", \"Male\", \"Female\", \"Female\", \"Male\", \"Female\"],\n",
        "\"Scores\" : [8, 9, 7, 7, 8, 8]\n",
        " }\n",
        ")"
      ],
      "execution_count": null,
      "outputs": []
    },
    {
      "cell_type": "code",
      "metadata": {
        "id": "XaunwdSjzpkh",
        "colab": {
          "base_uri": "https://localhost:8080/",
          "height": 237
        },
        "outputId": "e3409c1d-d63b-4472-fb24-9c971238d224"
      },
      "source": [
        "students_df"
      ],
      "execution_count": null,
      "outputs": [
        {
          "output_type": "execute_result",
          "data": {
            "text/html": [
              "<div>\n",
              "<style scoped>\n",
              "    .dataframe tbody tr th:only-of-type {\n",
              "        vertical-align: middle;\n",
              "    }\n",
              "\n",
              "    .dataframe tbody tr th {\n",
              "        vertical-align: top;\n",
              "    }\n",
              "\n",
              "    .dataframe thead th {\n",
              "        text-align: right;\n",
              "    }\n",
              "</style>\n",
              "<table border=\"1\" class=\"dataframe\">\n",
              "  <thead>\n",
              "    <tr style=\"text-align: right;\">\n",
              "      <th></th>\n",
              "      <th>Students</th>\n",
              "      <th>Group</th>\n",
              "      <th>Gender</th>\n",
              "      <th>Scores</th>\n",
              "    </tr>\n",
              "  </thead>\n",
              "  <tbody>\n",
              "    <tr>\n",
              "      <th>0</th>\n",
              "      <td>Rohit, Mr. Rohit</td>\n",
              "      <td>P2</td>\n",
              "      <td>Male</td>\n",
              "      <td>8</td>\n",
              "    </tr>\n",
              "    <tr>\n",
              "      <th>1</th>\n",
              "      <td>Jyothula, Mr. Sougandh</td>\n",
              "      <td>P2</td>\n",
              "      <td>Male</td>\n",
              "      <td>9</td>\n",
              "    </tr>\n",
              "    <tr>\n",
              "      <th>2</th>\n",
              "      <td>Mary, Miss. Sajitha</td>\n",
              "      <td>P2</td>\n",
              "      <td>Female</td>\n",
              "      <td>7</td>\n",
              "    </tr>\n",
              "    <tr>\n",
              "      <th>3</th>\n",
              "      <td>J, Miss. Nehal</td>\n",
              "      <td>P1</td>\n",
              "      <td>Female</td>\n",
              "      <td>7</td>\n",
              "    </tr>\n",
              "    <tr>\n",
              "      <th>4</th>\n",
              "      <td>Vaibhav, Mr. Vaibhav</td>\n",
              "      <td>P2</td>\n",
              "      <td>Male</td>\n",
              "      <td>8</td>\n",
              "    </tr>\n",
              "    <tr>\n",
              "      <th>5</th>\n",
              "      <td>Priyanka, Miss. Mira</td>\n",
              "      <td>p1</td>\n",
              "      <td>Female</td>\n",
              "      <td>8</td>\n",
              "    </tr>\n",
              "  </tbody>\n",
              "</table>\n",
              "</div>"
            ],
            "text/plain": [
              "                 Students Group  Gender  Scores\n",
              "0        Rohit, Mr. Rohit    P2    Male       8\n",
              "1  Jyothula, Mr. Sougandh    P2    Male       9\n",
              "2     Mary, Miss. Sajitha    P2  Female       7\n",
              "3          J, Miss. Nehal    P1  Female       7\n",
              "4    Vaibhav, Mr. Vaibhav    P2    Male       8\n",
              "5    Priyanka, Miss. Mira    p1  Female       8"
            ]
          },
          "metadata": {},
          "execution_count": 7
        }
      ]
    },
    {
      "cell_type": "code",
      "metadata": {
        "id": "2zCkePkTxkrF",
        "colab": {
          "base_uri": "https://localhost:8080/",
          "height": 237
        },
        "outputId": "4c39df34-b188-4e31-db28-e5218cf6b637"
      },
      "source": [
        "students_df[{\"Students\",\"Scores\"}]"
      ],
      "execution_count": null,
      "outputs": [
        {
          "output_type": "execute_result",
          "data": {
            "text/html": [
              "<div>\n",
              "<style scoped>\n",
              "    .dataframe tbody tr th:only-of-type {\n",
              "        vertical-align: middle;\n",
              "    }\n",
              "\n",
              "    .dataframe tbody tr th {\n",
              "        vertical-align: top;\n",
              "    }\n",
              "\n",
              "    .dataframe thead th {\n",
              "        text-align: right;\n",
              "    }\n",
              "</style>\n",
              "<table border=\"1\" class=\"dataframe\">\n",
              "  <thead>\n",
              "    <tr style=\"text-align: right;\">\n",
              "      <th></th>\n",
              "      <th>Students</th>\n",
              "      <th>Scores</th>\n",
              "    </tr>\n",
              "  </thead>\n",
              "  <tbody>\n",
              "    <tr>\n",
              "      <th>0</th>\n",
              "      <td>Rohit, Mr. Rohit</td>\n",
              "      <td>8</td>\n",
              "    </tr>\n",
              "    <tr>\n",
              "      <th>1</th>\n",
              "      <td>Jyothula, Mr. Sougandh</td>\n",
              "      <td>9</td>\n",
              "    </tr>\n",
              "    <tr>\n",
              "      <th>2</th>\n",
              "      <td>Mary, Miss. Sajitha</td>\n",
              "      <td>7</td>\n",
              "    </tr>\n",
              "    <tr>\n",
              "      <th>3</th>\n",
              "      <td>J, Miss. Nehal</td>\n",
              "      <td>7</td>\n",
              "    </tr>\n",
              "    <tr>\n",
              "      <th>4</th>\n",
              "      <td>Vaibhav, Mr. Vaibhav</td>\n",
              "      <td>8</td>\n",
              "    </tr>\n",
              "    <tr>\n",
              "      <th>5</th>\n",
              "      <td>Priyanka, Miss. Mira</td>\n",
              "      <td>8</td>\n",
              "    </tr>\n",
              "  </tbody>\n",
              "</table>\n",
              "</div>"
            ],
            "text/plain": [
              "                 Students  Scores\n",
              "0        Rohit, Mr. Rohit       8\n",
              "1  Jyothula, Mr. Sougandh       9\n",
              "2     Mary, Miss. Sajitha       7\n",
              "3          J, Miss. Nehal       7\n",
              "4    Vaibhav, Mr. Vaibhav       8\n",
              "5    Priyanka, Miss. Mira       8"
            ]
          },
          "metadata": {},
          "execution_count": 8
        }
      ]
    },
    {
      "cell_type": "code",
      "metadata": {
        "id": "tBSR4Fpjxktg",
        "colab": {
          "base_uri": "https://localhost:8080/"
        },
        "outputId": "141f53f4-c1ee-45d9-e246-7c63e709cb4e"
      },
      "source": [
        "students_df.Students"
      ],
      "execution_count": null,
      "outputs": [
        {
          "output_type": "execute_result",
          "data": {
            "text/plain": [
              "0          Rohit, Mr. Rohit\n",
              "1    Jyothula, Mr. Sougandh\n",
              "2       Mary, Miss. Sajitha\n",
              "3            J, Miss. Nehal\n",
              "4      Vaibhav, Mr. Vaibhav\n",
              "5      Priyanka, Miss. Mira\n",
              "Name: Students, dtype: object"
            ]
          },
          "metadata": {},
          "execution_count": 9
        }
      ]
    },
    {
      "cell_type": "code",
      "metadata": {
        "id": "1Uosi4391zcq",
        "colab": {
          "base_uri": "https://localhost:8080/"
        },
        "outputId": "abc81fee-8962-4993-b5ac-66c35924a15a"
      },
      "source": [
        "students_df.Scores.describe()"
      ],
      "execution_count": null,
      "outputs": [
        {
          "output_type": "execute_result",
          "data": {
            "text/plain": [
              "count    6.000000\n",
              "mean     7.833333\n",
              "std      0.752773\n",
              "min      7.000000\n",
              "25%      7.250000\n",
              "50%      8.000000\n",
              "75%      8.000000\n",
              "max      9.000000\n",
              "Name: Scores, dtype: float64"
            ]
          },
          "metadata": {},
          "execution_count": 13
        }
      ]
    },
    {
      "cell_type": "code",
      "metadata": {
        "id": "MTadJJW61zhZ",
        "colab": {
          "base_uri": "https://localhost:8080/"
        },
        "outputId": "9db11248-9ee7-435a-d0c1-593c51b458dc"
      },
      "source": [
        "x=pd.Series([1,2,3,4,5,6])\n",
        "x.values\n",
        "course_df = pd.Series(['Programming for Analytics', 'MPBA', 507, 61])\n",
        "course_df"
      ],
      "execution_count": null,
      "outputs": [
        {
          "output_type": "execute_result",
          "data": {
            "text/plain": [
              "0    Programming for Analytics\n",
              "1                         MPBA\n",
              "2                          507\n",
              "3                           61\n",
              "dtype: object"
            ]
          },
          "metadata": {},
          "execution_count": 21
        }
      ]
    },
    {
      "cell_type": "code",
      "metadata": {
        "id": "PukyXBgh1zj2",
        "colab": {
          "base_uri": "https://localhost:8080/"
        },
        "outputId": "f2ffd77b-2357-4512-f43c-a63b2a029841"
      },
      "source": [
        "course_df.dtype"
      ],
      "execution_count": null,
      "outputs": [
        {
          "output_type": "execute_result",
          "data": {
            "text/plain": [
              "dtype('O')"
            ]
          },
          "metadata": {},
          "execution_count": 27
        }
      ]
    },
    {
      "cell_type": "code",
      "metadata": {
        "id": "iOa2vJq91zl-"
      },
      "source": [
        "course_df = pd.Series(['Programming for Analytics', 'MPBA', 507, 61],\n",
        "                        index=['Course','TCode','NCode', 'ClassSize']\n",
        ")"
      ],
      "execution_count": null,
      "outputs": []
    },
    {
      "cell_type": "code",
      "metadata": {
        "id": "WAEPGZWc1zoJ",
        "colab": {
          "base_uri": "https://localhost:8080/"
        },
        "outputId": "556f9b8b-7a6f-419a-e5ee-3487f560f447"
      },
      "source": [
        "course_df['ClassSize']"
      ],
      "execution_count": null,
      "outputs": [
        {
          "output_type": "execute_result",
          "data": {
            "text/plain": [
              "61"
            ]
          },
          "metadata": {},
          "execution_count": 31
        }
      ]
    },
    {
      "cell_type": "code",
      "metadata": {
        "id": "UFfQJ54p1zqM",
        "colab": {
          "base_uri": "https://localhost:8080/"
        },
        "outputId": "581a653e-0341-435c-8c98-d6ae2968a33d"
      },
      "source": [
        "dates_days=pd.date_range('20210101',periods=365)\n",
        "stock_price=np.random.randint(160,260,size=365)\n",
        "df=pd.Series(stock_price,index=dates_days)\n",
        "df"
      ],
      "execution_count": null,
      "outputs": [
        {
          "output_type": "execute_result",
          "data": {
            "text/plain": [
              "2021-01-01    162\n",
              "2021-01-02    257\n",
              "2021-01-03    180\n",
              "2021-01-04    216\n",
              "2021-01-05    216\n",
              "             ... \n",
              "2021-12-27    249\n",
              "2021-12-28    251\n",
              "2021-12-29    221\n",
              "2021-12-30    194\n",
              "2021-12-31    187\n",
              "Freq: D, Length: 365, dtype: int64"
            ]
          },
          "metadata": {},
          "execution_count": 58
        }
      ]
    },
    {
      "cell_type": "code",
      "metadata": {
        "id": "GIJa6uRY1zsb",
        "colab": {
          "base_uri": "https://localhost:8080/"
        },
        "outputId": "dbf05a3b-cc07-4e45-acad-b19a075a0887"
      },
      "source": [
        "df.index.dayofweek"
      ],
      "execution_count": null,
      "outputs": [
        {
          "output_type": "execute_result",
          "data": {
            "text/plain": [
              "Int64Index([4, 5, 6, 0, 1, 2, 3, 4, 5, 6,\n",
              "            ...\n",
              "            2, 3, 4, 5, 6, 0, 1, 2, 3, 4],\n",
              "           dtype='int64', length=365)"
            ]
          },
          "metadata": {},
          "execution_count": 59
        }
      ]
    },
    {
      "cell_type": "code",
      "metadata": {
        "id": "1zKLT-XV7PH_"
      },
      "source": [
        "url='C:/Users/user/Documents/GitHub/AI-ML-Algorithms-for-Business-Applications/Datasets/NSE Stocks 22-Nov-2021.xlsx'\n",
        "\n",
        "\n"
      ],
      "execution_count": null,
      "outputs": []
    },
    {
      "cell_type": "code",
      "metadata": {
        "id": "jHejAidVyeT5"
      },
      "source": [
        "import pandas as pd\n",
        "import numpy as np\n",
        "url='https://raw.githubusercontent.com/partha186/Programming-for-Analytics--MPBA-G507/main/Assignments/Python%20Assignments/01%20Data%20Cleaning/ipl2021dirtydataset.csv'\n",
        "\n",
        "data=pd.read_csv(url)"
      ],
      "execution_count": null,
      "outputs": []
    },
    {
      "cell_type": "code",
      "metadata": {
        "id": "YWikpHRDyeWf",
        "colab": {
          "base_uri": "https://localhost:8080/",
          "height": 704
        },
        "outputId": "35b09b00-d0bd-4d67-b19c-548eaa747e7c"
      },
      "source": [
        "df"
      ],
      "execution_count": null,
      "outputs": [
        {
          "output_type": "execute_result",
          "data": {
            "text/html": [
              "<div>\n",
              "<style scoped>\n",
              "    .dataframe tbody tr th:only-of-type {\n",
              "        vertical-align: middle;\n",
              "    }\n",
              "\n",
              "    .dataframe tbody tr th {\n",
              "        vertical-align: top;\n",
              "    }\n",
              "\n",
              "    .dataframe thead th {\n",
              "        text-align: right;\n",
              "    }\n",
              "</style>\n",
              "<table border=\"1\" class=\"dataframe\">\n",
              "  <thead>\n",
              "    <tr style=\"text-align: right;\">\n",
              "      <th></th>\n",
              "      <th>id</th>\n",
              "      <th>inning</th>\n",
              "      <th>over</th>\n",
              "      <th>ball</th>\n",
              "      <th>batsman</th>\n",
              "      <th>non_striker</th>\n",
              "      <th>bowler</th>\n",
              "      <th>batsman_runs</th>\n",
              "      <th>extra_runs</th>\n",
              "      <th>total_runs</th>\n",
              "      <th>non_boundary</th>\n",
              "      <th>is_wicket</th>\n",
              "      <th>dismissal_kind</th>\n",
              "      <th>player_dismissed</th>\n",
              "      <th>fielder</th>\n",
              "      <th>extras_type</th>\n",
              "      <th>batting_team</th>\n",
              "      <th>bowling_team</th>\n",
              "    </tr>\n",
              "  </thead>\n",
              "  <tbody>\n",
              "    <tr>\n",
              "      <th>0</th>\n",
              "      <td>1254058</td>\n",
              "      <td>1</td>\n",
              "      <td>0</td>\n",
              "      <td>1</td>\n",
              "      <td>RG Sharma</td>\n",
              "      <td>CA Lynn</td>\n",
              "      <td>Mohammed Siraj</td>\n",
              "      <td>2</td>\n",
              "      <td>0</td>\n",
              "      <td>2</td>\n",
              "      <td>0</td>\n",
              "      <td>0</td>\n",
              "      <td>NaN</td>\n",
              "      <td>NaN</td>\n",
              "      <td>NaN</td>\n",
              "      <td>NaN</td>\n",
              "      <td>Mumbai Indians</td>\n",
              "      <td>Royal Challengers Bangalore</td>\n",
              "    </tr>\n",
              "    <tr>\n",
              "      <th>1</th>\n",
              "      <td>1254058</td>\n",
              "      <td>1</td>\n",
              "      <td>0</td>\n",
              "      <td>2</td>\n",
              "      <td>RG Sharma</td>\n",
              "      <td>CA Lynn</td>\n",
              "      <td>Mohammed Siraj</td>\n",
              "      <td>0</td>\n",
              "      <td>0</td>\n",
              "      <td>0</td>\n",
              "      <td>0</td>\n",
              "      <td>0</td>\n",
              "      <td>NaN</td>\n",
              "      <td>NaN</td>\n",
              "      <td>NaN</td>\n",
              "      <td>NaN</td>\n",
              "      <td>Mumbai Indians</td>\n",
              "      <td>Royal Challengers Bangalore</td>\n",
              "    </tr>\n",
              "    <tr>\n",
              "      <th>2</th>\n",
              "      <td>1254058</td>\n",
              "      <td>1</td>\n",
              "      <td>0</td>\n",
              "      <td>3</td>\n",
              "      <td>RG Sharma</td>\n",
              "      <td>CA Lynn</td>\n",
              "      <td>Mohammed Siraj</td>\n",
              "      <td>0</td>\n",
              "      <td>0</td>\n",
              "      <td>0</td>\n",
              "      <td>0</td>\n",
              "      <td>0</td>\n",
              "      <td>NaN</td>\n",
              "      <td>NaN</td>\n",
              "      <td>NaN</td>\n",
              "      <td>NaN</td>\n",
              "      <td>Mumbai Indians</td>\n",
              "      <td>Royal Challengers Bangalore</td>\n",
              "    </tr>\n",
              "    <tr>\n",
              "      <th>3</th>\n",
              "      <td>1254058</td>\n",
              "      <td>1</td>\n",
              "      <td>0</td>\n",
              "      <td>4</td>\n",
              "      <td>RG Sharma</td>\n",
              "      <td>CA Lynn</td>\n",
              "      <td>Mohammed Siraj</td>\n",
              "      <td>2</td>\n",
              "      <td>0</td>\n",
              "      <td>2</td>\n",
              "      <td>0</td>\n",
              "      <td>0</td>\n",
              "      <td>NaN</td>\n",
              "      <td>NaN</td>\n",
              "      <td>NaN</td>\n",
              "      <td>NaN</td>\n",
              "      <td>Mumbai Indians</td>\n",
              "      <td>Royal Challengers Bangalore</td>\n",
              "    </tr>\n",
              "    <tr>\n",
              "      <th>4</th>\n",
              "      <td>1254058</td>\n",
              "      <td>1</td>\n",
              "      <td>0</td>\n",
              "      <td>5</td>\n",
              "      <td>RG Sharma</td>\n",
              "      <td>CA Lynn</td>\n",
              "      <td>Mohammed Siraj</td>\n",
              "      <td>0</td>\n",
              "      <td>0</td>\n",
              "      <td>0</td>\n",
              "      <td>0</td>\n",
              "      <td>0</td>\n",
              "      <td>NaN</td>\n",
              "      <td>NaN</td>\n",
              "      <td>NaN</td>\n",
              "      <td>NaN</td>\n",
              "      <td>Mumbai Indians</td>\n",
              "      <td>Royal Challengers Bangalore</td>\n",
              "    </tr>\n",
              "    <tr>\n",
              "      <th>...</th>\n",
              "      <td>...</td>\n",
              "      <td>...</td>\n",
              "      <td>...</td>\n",
              "      <td>...</td>\n",
              "      <td>...</td>\n",
              "      <td>...</td>\n",
              "      <td>...</td>\n",
              "      <td>...</td>\n",
              "      <td>...</td>\n",
              "      <td>...</td>\n",
              "      <td>...</td>\n",
              "      <td>...</td>\n",
              "      <td>...</td>\n",
              "      <td>...</td>\n",
              "      <td>...</td>\n",
              "      <td>...</td>\n",
              "      <td>...</td>\n",
              "      <td>...</td>\n",
              "    </tr>\n",
              "    <tr>\n",
              "      <th>494</th>\n",
              "      <td>1254060</td>\n",
              "      <td>1</td>\n",
              "      <td>0</td>\n",
              "      <td>6</td>\n",
              "      <td>N Rana</td>\n",
              "      <td>Shubman Gill</td>\n",
              "      <td>B Kumar</td>\n",
              "      <td>0</td>\n",
              "      <td>0</td>\n",
              "      <td>0</td>\n",
              "      <td>0</td>\n",
              "      <td>0</td>\n",
              "      <td>NaN</td>\n",
              "      <td>NaN</td>\n",
              "      <td>NaN</td>\n",
              "      <td>NaN</td>\n",
              "      <td>Kolkata Knight Riders</td>\n",
              "      <td>Sunrisers Hyderabad</td>\n",
              "    </tr>\n",
              "    <tr>\n",
              "      <th>495</th>\n",
              "      <td>1254060</td>\n",
              "      <td>1</td>\n",
              "      <td>1</td>\n",
              "      <td>1</td>\n",
              "      <td>Shubman Gill</td>\n",
              "      <td>N Rana</td>\n",
              "      <td>Sandeep Sharma</td>\n",
              "      <td>0</td>\n",
              "      <td>0</td>\n",
              "      <td>0</td>\n",
              "      <td>0</td>\n",
              "      <td>0</td>\n",
              "      <td>NaN</td>\n",
              "      <td>NaN</td>\n",
              "      <td>NaN</td>\n",
              "      <td>NaN</td>\n",
              "      <td>Kolkata Knight Riders</td>\n",
              "      <td>Sunrisers Hyderabad</td>\n",
              "    </tr>\n",
              "    <tr>\n",
              "      <th>496</th>\n",
              "      <td>1254060</td>\n",
              "      <td>1</td>\n",
              "      <td>1</td>\n",
              "      <td>2</td>\n",
              "      <td>Shubman Gill</td>\n",
              "      <td>N Rana</td>\n",
              "      <td>Sandeep Sharma</td>\n",
              "      <td>1</td>\n",
              "      <td>0</td>\n",
              "      <td>1</td>\n",
              "      <td>0</td>\n",
              "      <td>0</td>\n",
              "      <td>NaN</td>\n",
              "      <td>NaN</td>\n",
              "      <td>NaN</td>\n",
              "      <td>NaN</td>\n",
              "      <td>Kolkata Knight Riders</td>\n",
              "      <td>Sunrisers Hyderabad</td>\n",
              "    </tr>\n",
              "    <tr>\n",
              "      <th>497</th>\n",
              "      <td>1254060</td>\n",
              "      <td>1</td>\n",
              "      <td>1</td>\n",
              "      <td>3</td>\n",
              "      <td>N Rana</td>\n",
              "      <td>Shubman Gill</td>\n",
              "      <td>Sandeep Sharma</td>\n",
              "      <td>4</td>\n",
              "      <td>0</td>\n",
              "      <td>4</td>\n",
              "      <td>0</td>\n",
              "      <td>0</td>\n",
              "      <td>NaN</td>\n",
              "      <td>NaN</td>\n",
              "      <td>NaN</td>\n",
              "      <td>NaN</td>\n",
              "      <td>Kolkata Knight Riders</td>\n",
              "      <td>Sunrisers Hyderabad</td>\n",
              "    </tr>\n",
              "    <tr>\n",
              "      <th>498</th>\n",
              "      <td>1254060</td>\n",
              "      <td>1</td>\n",
              "      <td>1</td>\n",
              "      <td>4</td>\n",
              "      <td>N Rana</td>\n",
              "      <td>Shubman Gill</td>\n",
              "      <td>Sandeep Sharma</td>\n",
              "      <td>0</td>\n",
              "      <td>0</td>\n",
              "      <td>0</td>\n",
              "      <td>0</td>\n",
              "      <td>0</td>\n",
              "      <td>NaN</td>\n",
              "      <td>NaN</td>\n",
              "      <td>NaN</td>\n",
              "      <td>NaN</td>\n",
              "      <td>Kolkata Knight Riders</td>\n",
              "      <td>Sunrisers Hyderabad</td>\n",
              "    </tr>\n",
              "  </tbody>\n",
              "</table>\n",
              "<p>499 rows × 18 columns</p>\n",
              "</div>"
            ],
            "text/plain": [
              "          id  inning  ...           batting_team                 bowling_team\n",
              "0    1254058       1  ...         Mumbai Indians  Royal Challengers Bangalore\n",
              "1    1254058       1  ...         Mumbai Indians  Royal Challengers Bangalore\n",
              "2    1254058       1  ...         Mumbai Indians  Royal Challengers Bangalore\n",
              "3    1254058       1  ...         Mumbai Indians  Royal Challengers Bangalore\n",
              "4    1254058       1  ...         Mumbai Indians  Royal Challengers Bangalore\n",
              "..       ...     ...  ...                    ...                          ...\n",
              "494  1254060       1  ...  Kolkata Knight Riders          Sunrisers Hyderabad\n",
              "495  1254060       1  ...  Kolkata Knight Riders          Sunrisers Hyderabad\n",
              "496  1254060       1  ...  Kolkata Knight Riders          Sunrisers Hyderabad\n",
              "497  1254060       1  ...  Kolkata Knight Riders          Sunrisers Hyderabad\n",
              "498  1254060       1  ...  Kolkata Knight Riders          Sunrisers Hyderabad\n",
              "\n",
              "[499 rows x 18 columns]"
            ]
          },
          "metadata": {},
          "execution_count": 4
        }
      ]
    },
    {
      "cell_type": "code",
      "metadata": {
        "id": "oFC_2x1Pzpbv"
      },
      "source": [
        "df.columns=df.columns.str.lower().str.replace(\" \",\"_\")"
      ],
      "execution_count": null,
      "outputs": []
    },
    {
      "cell_type": "code",
      "metadata": {
        "id": "Mv9olC5azpen",
        "colab": {
          "base_uri": "https://localhost:8080/",
          "height": 704
        },
        "outputId": "b32a6465-0967-4398-c808-8528b04c0537"
      },
      "source": [
        "display(df)"
      ],
      "execution_count": null,
      "outputs": [
        {
          "output_type": "display_data",
          "data": {
            "text/html": [
              "<div>\n",
              "<style scoped>\n",
              "    .dataframe tbody tr th:only-of-type {\n",
              "        vertical-align: middle;\n",
              "    }\n",
              "\n",
              "    .dataframe tbody tr th {\n",
              "        vertical-align: top;\n",
              "    }\n",
              "\n",
              "    .dataframe thead th {\n",
              "        text-align: right;\n",
              "    }\n",
              "</style>\n",
              "<table border=\"1\" class=\"dataframe\">\n",
              "  <thead>\n",
              "    <tr style=\"text-align: right;\">\n",
              "      <th></th>\n",
              "      <th>id</th>\n",
              "      <th>inning</th>\n",
              "      <th>over</th>\n",
              "      <th>ball</th>\n",
              "      <th>batsman</th>\n",
              "      <th>non_striker</th>\n",
              "      <th>bowler</th>\n",
              "      <th>batsman_runs</th>\n",
              "      <th>extra_runs</th>\n",
              "      <th>total_runs</th>\n",
              "      <th>non_boundary</th>\n",
              "      <th>is_wicket</th>\n",
              "      <th>dismissal_kind</th>\n",
              "      <th>player_dismissed</th>\n",
              "      <th>fielder</th>\n",
              "      <th>extras_type</th>\n",
              "      <th>batting_team</th>\n",
              "      <th>bowling_team</th>\n",
              "    </tr>\n",
              "  </thead>\n",
              "  <tbody>\n",
              "    <tr>\n",
              "      <th>0</th>\n",
              "      <td>1254058</td>\n",
              "      <td>1</td>\n",
              "      <td>0</td>\n",
              "      <td>1</td>\n",
              "      <td>RG Sharma</td>\n",
              "      <td>CA Lynn</td>\n",
              "      <td>Mohammed Siraj</td>\n",
              "      <td>2</td>\n",
              "      <td>0</td>\n",
              "      <td>2</td>\n",
              "      <td>0</td>\n",
              "      <td>0</td>\n",
              "      <td>NaN</td>\n",
              "      <td>NaN</td>\n",
              "      <td>NaN</td>\n",
              "      <td>NaN</td>\n",
              "      <td>Mumbai Indians</td>\n",
              "      <td>Royal Challengers Bangalore</td>\n",
              "    </tr>\n",
              "    <tr>\n",
              "      <th>1</th>\n",
              "      <td>1254058</td>\n",
              "      <td>1</td>\n",
              "      <td>0</td>\n",
              "      <td>2</td>\n",
              "      <td>RG Sharma</td>\n",
              "      <td>CA Lynn</td>\n",
              "      <td>Mohammed Siraj</td>\n",
              "      <td>0</td>\n",
              "      <td>0</td>\n",
              "      <td>0</td>\n",
              "      <td>0</td>\n",
              "      <td>0</td>\n",
              "      <td>NaN</td>\n",
              "      <td>NaN</td>\n",
              "      <td>NaN</td>\n",
              "      <td>NaN</td>\n",
              "      <td>Mumbai Indians</td>\n",
              "      <td>Royal Challengers Bangalore</td>\n",
              "    </tr>\n",
              "    <tr>\n",
              "      <th>2</th>\n",
              "      <td>1254058</td>\n",
              "      <td>1</td>\n",
              "      <td>0</td>\n",
              "      <td>3</td>\n",
              "      <td>RG Sharma</td>\n",
              "      <td>CA Lynn</td>\n",
              "      <td>Mohammed Siraj</td>\n",
              "      <td>0</td>\n",
              "      <td>0</td>\n",
              "      <td>0</td>\n",
              "      <td>0</td>\n",
              "      <td>0</td>\n",
              "      <td>NaN</td>\n",
              "      <td>NaN</td>\n",
              "      <td>NaN</td>\n",
              "      <td>NaN</td>\n",
              "      <td>Mumbai Indians</td>\n",
              "      <td>Royal Challengers Bangalore</td>\n",
              "    </tr>\n",
              "    <tr>\n",
              "      <th>3</th>\n",
              "      <td>1254058</td>\n",
              "      <td>1</td>\n",
              "      <td>0</td>\n",
              "      <td>4</td>\n",
              "      <td>RG Sharma</td>\n",
              "      <td>CA Lynn</td>\n",
              "      <td>Mohammed Siraj</td>\n",
              "      <td>2</td>\n",
              "      <td>0</td>\n",
              "      <td>2</td>\n",
              "      <td>0</td>\n",
              "      <td>0</td>\n",
              "      <td>NaN</td>\n",
              "      <td>NaN</td>\n",
              "      <td>NaN</td>\n",
              "      <td>NaN</td>\n",
              "      <td>Mumbai Indians</td>\n",
              "      <td>Royal Challengers Bangalore</td>\n",
              "    </tr>\n",
              "    <tr>\n",
              "      <th>4</th>\n",
              "      <td>1254058</td>\n",
              "      <td>1</td>\n",
              "      <td>0</td>\n",
              "      <td>5</td>\n",
              "      <td>RG Sharma</td>\n",
              "      <td>CA Lynn</td>\n",
              "      <td>Mohammed Siraj</td>\n",
              "      <td>0</td>\n",
              "      <td>0</td>\n",
              "      <td>0</td>\n",
              "      <td>0</td>\n",
              "      <td>0</td>\n",
              "      <td>NaN</td>\n",
              "      <td>NaN</td>\n",
              "      <td>NaN</td>\n",
              "      <td>NaN</td>\n",
              "      <td>Mumbai Indians</td>\n",
              "      <td>Royal Challengers Bangalore</td>\n",
              "    </tr>\n",
              "    <tr>\n",
              "      <th>...</th>\n",
              "      <td>...</td>\n",
              "      <td>...</td>\n",
              "      <td>...</td>\n",
              "      <td>...</td>\n",
              "      <td>...</td>\n",
              "      <td>...</td>\n",
              "      <td>...</td>\n",
              "      <td>...</td>\n",
              "      <td>...</td>\n",
              "      <td>...</td>\n",
              "      <td>...</td>\n",
              "      <td>...</td>\n",
              "      <td>...</td>\n",
              "      <td>...</td>\n",
              "      <td>...</td>\n",
              "      <td>...</td>\n",
              "      <td>...</td>\n",
              "      <td>...</td>\n",
              "    </tr>\n",
              "    <tr>\n",
              "      <th>494</th>\n",
              "      <td>1254060</td>\n",
              "      <td>1</td>\n",
              "      <td>0</td>\n",
              "      <td>6</td>\n",
              "      <td>N Rana</td>\n",
              "      <td>Shubman Gill</td>\n",
              "      <td>B Kumar</td>\n",
              "      <td>0</td>\n",
              "      <td>0</td>\n",
              "      <td>0</td>\n",
              "      <td>0</td>\n",
              "      <td>0</td>\n",
              "      <td>NaN</td>\n",
              "      <td>NaN</td>\n",
              "      <td>NaN</td>\n",
              "      <td>NaN</td>\n",
              "      <td>Kolkata Knight Riders</td>\n",
              "      <td>Sunrisers Hyderabad</td>\n",
              "    </tr>\n",
              "    <tr>\n",
              "      <th>495</th>\n",
              "      <td>1254060</td>\n",
              "      <td>1</td>\n",
              "      <td>1</td>\n",
              "      <td>1</td>\n",
              "      <td>Shubman Gill</td>\n",
              "      <td>N Rana</td>\n",
              "      <td>Sandeep Sharma</td>\n",
              "      <td>0</td>\n",
              "      <td>0</td>\n",
              "      <td>0</td>\n",
              "      <td>0</td>\n",
              "      <td>0</td>\n",
              "      <td>NaN</td>\n",
              "      <td>NaN</td>\n",
              "      <td>NaN</td>\n",
              "      <td>NaN</td>\n",
              "      <td>Kolkata Knight Riders</td>\n",
              "      <td>Sunrisers Hyderabad</td>\n",
              "    </tr>\n",
              "    <tr>\n",
              "      <th>496</th>\n",
              "      <td>1254060</td>\n",
              "      <td>1</td>\n",
              "      <td>1</td>\n",
              "      <td>2</td>\n",
              "      <td>Shubman Gill</td>\n",
              "      <td>N Rana</td>\n",
              "      <td>Sandeep Sharma</td>\n",
              "      <td>1</td>\n",
              "      <td>0</td>\n",
              "      <td>1</td>\n",
              "      <td>0</td>\n",
              "      <td>0</td>\n",
              "      <td>NaN</td>\n",
              "      <td>NaN</td>\n",
              "      <td>NaN</td>\n",
              "      <td>NaN</td>\n",
              "      <td>Kolkata Knight Riders</td>\n",
              "      <td>Sunrisers Hyderabad</td>\n",
              "    </tr>\n",
              "    <tr>\n",
              "      <th>497</th>\n",
              "      <td>1254060</td>\n",
              "      <td>1</td>\n",
              "      <td>1</td>\n",
              "      <td>3</td>\n",
              "      <td>N Rana</td>\n",
              "      <td>Shubman Gill</td>\n",
              "      <td>Sandeep Sharma</td>\n",
              "      <td>4</td>\n",
              "      <td>0</td>\n",
              "      <td>4</td>\n",
              "      <td>0</td>\n",
              "      <td>0</td>\n",
              "      <td>NaN</td>\n",
              "      <td>NaN</td>\n",
              "      <td>NaN</td>\n",
              "      <td>NaN</td>\n",
              "      <td>Kolkata Knight Riders</td>\n",
              "      <td>Sunrisers Hyderabad</td>\n",
              "    </tr>\n",
              "    <tr>\n",
              "      <th>498</th>\n",
              "      <td>1254060</td>\n",
              "      <td>1</td>\n",
              "      <td>1</td>\n",
              "      <td>4</td>\n",
              "      <td>N Rana</td>\n",
              "      <td>Shubman Gill</td>\n",
              "      <td>Sandeep Sharma</td>\n",
              "      <td>0</td>\n",
              "      <td>0</td>\n",
              "      <td>0</td>\n",
              "      <td>0</td>\n",
              "      <td>0</td>\n",
              "      <td>NaN</td>\n",
              "      <td>NaN</td>\n",
              "      <td>NaN</td>\n",
              "      <td>NaN</td>\n",
              "      <td>Kolkata Knight Riders</td>\n",
              "      <td>Sunrisers Hyderabad</td>\n",
              "    </tr>\n",
              "  </tbody>\n",
              "</table>\n",
              "<p>499 rows × 18 columns</p>\n",
              "</div>"
            ],
            "text/plain": [
              "          id  inning  ...           batting_team                 bowling_team\n",
              "0    1254058       1  ...         Mumbai Indians  Royal Challengers Bangalore\n",
              "1    1254058       1  ...         Mumbai Indians  Royal Challengers Bangalore\n",
              "2    1254058       1  ...         Mumbai Indians  Royal Challengers Bangalore\n",
              "3    1254058       1  ...         Mumbai Indians  Royal Challengers Bangalore\n",
              "4    1254058       1  ...         Mumbai Indians  Royal Challengers Bangalore\n",
              "..       ...     ...  ...                    ...                          ...\n",
              "494  1254060       1  ...  Kolkata Knight Riders          Sunrisers Hyderabad\n",
              "495  1254060       1  ...  Kolkata Knight Riders          Sunrisers Hyderabad\n",
              "496  1254060       1  ...  Kolkata Knight Riders          Sunrisers Hyderabad\n",
              "497  1254060       1  ...  Kolkata Knight Riders          Sunrisers Hyderabad\n",
              "498  1254060       1  ...  Kolkata Knight Riders          Sunrisers Hyderabad\n",
              "\n",
              "[499 rows x 18 columns]"
            ]
          },
          "metadata": {}
        }
      ]
    },
    {
      "cell_type": "code",
      "metadata": {
        "id": "tj8IkzWi0Qpo",
        "colab": {
          "base_uri": "https://localhost:8080/"
        },
        "outputId": "7d39bcac-c24a-47ff-b523-7c41802e1a25"
      },
      "source": [
        "df.columns"
      ],
      "execution_count": null,
      "outputs": [
        {
          "output_type": "execute_result",
          "data": {
            "text/plain": [
              "Index(['id', 'inning', 'over', 'ball', 'batsman', 'non_striker', 'bowler',\n",
              "       'batsman_runs', 'extra_runs', 'total_runs', 'non_boundary', 'is_wicket',\n",
              "       'dismissal_kind', 'player_dismissed', 'fielder', 'extras_type',\n",
              "       'batting_team', 'bowling_team'],\n",
              "      dtype='object')"
            ]
          },
          "metadata": {},
          "execution_count": 10
        }
      ]
    },
    {
      "cell_type": "code",
      "metadata": {
        "id": "ImYnXYLMyeZT",
        "colab": {
          "base_uri": "https://localhost:8080/",
          "height": 130
        },
        "outputId": "1f9850cb-1341-414c-ff22-284b37401602"
      },
      "source": [
        "df=df.str.lower().str.replace(\" \",\"_\")\n",
        "\n",
        "for i in len(df[:,1])"
      ],
      "execution_count": null,
      "outputs": [
        {
          "output_type": "error",
          "ename": "SyntaxError",
          "evalue": "ignored",
          "traceback": [
            "\u001b[0;36m  File \u001b[0;32m\"<ipython-input-13-2d10bcecc370>\"\u001b[0;36m, line \u001b[0;32m3\u001b[0m\n\u001b[0;31m    for i in len(df[:,1])\u001b[0m\n\u001b[0m                         ^\u001b[0m\n\u001b[0;31mSyntaxError\u001b[0m\u001b[0;31m:\u001b[0m invalid syntax\n"
          ]
        }
      ]
    },
    {
      "cell_type": "code",
      "metadata": {
        "id": "31j9NJX908uv",
        "colab": {
          "base_uri": "https://localhost:8080/"
        },
        "outputId": "5e37a677-a9f9-449e-b041-186ae0c0aee1"
      },
      "source": [
        "df.shape\n",
        "import numpy as np\n",
        "\n",
        "data.isna().sum()"
      ],
      "execution_count": null,
      "outputs": [
        {
          "output_type": "execute_result",
          "data": {
            "text/plain": [
              "id                    0\n",
              "inning                0\n",
              "over                  0\n",
              "ball                  0\n",
              "batsman               0\n",
              "non_striker           0\n",
              "bowler                0\n",
              "batsman_runs          0\n",
              "extra_runs            0\n",
              "total_runs            0\n",
              "non_boundary          0\n",
              "is_wicket             0\n",
              "dismissal_kind      464\n",
              "player_dismissed    455\n",
              "fielder             483\n",
              "extras_type         476\n",
              "batting_team          0\n",
              "bowling_team          0\n",
              "dtype: int64"
            ]
          },
          "metadata": {},
          "execution_count": 41
        }
      ]
    },
    {
      "cell_type": "code",
      "metadata": {
        "id": "Dnq39o7w1E6m",
        "colab": {
          "base_uri": "https://localhost:8080/",
          "height": 130
        },
        "outputId": "953b41d8-626d-48ae-ba11-450b8e35e4da"
      },
      "source": [
        "print(data.nunique())\n",
        "list1=['dismissal_kind','player_dismissed','fielder']\n",
        "def clean_publication_place(list1):\n",
        "    place = str(data[])\n",
        "    \n",
        "    if 'NA' in place:\n",
        "        return 'London'\n",
        "    if 'Oxford' in place:\n",
        "        return 'Oxford'\n",
        "    if place == 'Newcastle upon Tyne':\n",
        "        return 'Newcastle-upon-Tyne'\n",
        "    \n",
        "    return place\n",
        "    \n",
        "df['Place of Publication'] = df.apply(clean_publication_place, axis = 1)\n",
        "  \n"
      ],
      "execution_count": null,
      "outputs": [
        {
          "output_type": "error",
          "ename": "SyntaxError",
          "evalue": "ignored",
          "traceback": [
            "\u001b[0;36m  File \u001b[0;32m\"<ipython-input-42-63f4dd1cfd37>\"\u001b[0;36m, line \u001b[0;32m3\u001b[0m\n\u001b[0;31m    ,'player_dismissed'\u001b[0m\n\u001b[0m    ^\u001b[0m\n\u001b[0;31mSyntaxError\u001b[0m\u001b[0;31m:\u001b[0m invalid syntax\n"
          ]
        }
      ]
    },
    {
      "cell_type": "code",
      "metadata": {
        "id": "EeFOUVwY7PKh"
      },
      "source": [
        " ###In general, explain the common sources of error that can be found in data.\n",
        "    #(ii) Which of the columns do you think are of no use? Remove those irrelevant observations.\n",
        "    ###\n",
        "    (iii) Why do you think duplicate values need to be removed while cleansing the dataset? How would you achieve the same?\n",
        "    (iv) Using isnull() and isna() functions, check if any null values are present in the dataset. Is there any difference between the 2 functions?\n",
        "    (v) Explain the different ways of handling missing data. Suggest the pros and cons of each method by giving a suitable example for the same.\n",
        "    (vi) Which method would you use to handle the missing data in this case and why? \n",
        "    (vii) Fill the missing data in the given dataset without deleting any columns or rows.\n",
        "    (viii) Fix the structural errors in the given dataset, for example you may find 'NA' and 'Not Applicable' being used interchangeably and similarly abbreviations have also been used for the team names in some places \n",
        "    (ix) How do you detect outliers? Filter out unwanted outliers in the dataset (hint: you can also use the help of plots to figure this out)"
      ],
      "execution_count": null,
      "outputs": []
    },
    {
      "cell_type": "code",
      "metadata": {
        "id": "F38CN4147PM-",
        "colab": {
          "base_uri": "https://localhost:8080/"
        },
        "outputId": "1ca922cc-ba6c-4f59-f976-5a298687cd95"
      },
      "source": [
        "data.shape[1]"
      ],
      "execution_count": null,
      "outputs": [
        {
          "output_type": "execute_result",
          "data": {
            "text/plain": [
              "18"
            ]
          },
          "metadata": {},
          "execution_count": 35
        }
      ]
    },
    {
      "cell_type": "code",
      "metadata": {
        "id": "Ipn7eZyGxkwF",
        "colab": {
          "base_uri": "https://localhost:8080/",
          "height": 514
        },
        "outputId": "a6ae1cd6-21b5-4a28-ae02-7c5656e961fc"
      },
      "source": [
        "import matplotlib.pyplot as plt\n",
        "fig = plt.figure(figsize =(10, 7))\n",
        " \n",
        "# Creating plot\n",
        "plt.boxplot(data['batsman_runs'])\n",
        " \n",
        "\n",
        "\n"
      ],
      "execution_count": null,
      "outputs": [
        {
          "output_type": "execute_result",
          "data": {
            "text/plain": [
              "Index(['id', 'inning', 'over', 'ball', 'batsman', 'non_striker', 'bowler',\n",
              "       'batsman_runs', 'extra_runs', 'total_runs', 'non_boundary', 'is_wicket',\n",
              "       'dismissal_kind', 'player_dismissed', 'fielder', 'extras_type',\n",
              "       'batting_team', 'bowling_team'],\n",
              "      dtype='object')"
            ]
          },
          "metadata": {},
          "execution_count": 62
        },
        {
          "output_type": "display_data",
          "data": {
            "image/png": "[encoded data removed]",
            "text/plain": [
              "<Figure size 720x504 with 1 Axes>"
            ]
          },
          "metadata": {
            "needs_background": "light"
          }
        }
      ]
    },
    {
      "cell_type": "code",
      "metadata": {
        "id": "2VBr8OXVAcLQ"
      },
      "source": [
        "a=list(data.columns)"
      ],
      "execution_count": null,
      "outputs": []
    },
    {
      "cell_type": "code",
      "metadata": {
        "id": "S7rDaeftBKPm",
        "colab": {
          "base_uri": "https://localhost:8080/"
        },
        "outputId": "a958ca49-100a-4789-8ab2-be91608a6ecc"
      },
      "source": [
        "\n",
        "\n",
        "data=data.fillna(0)\n",
        "data.isna().sum()"
      ],
      "execution_count": null,
      "outputs": [
        {
          "output_type": "execute_result",
          "data": {
            "text/plain": [
              "id                  0\n",
              "inning              0\n",
              "over                0\n",
              "ball                0\n",
              "batsman             0\n",
              "non_striker         0\n",
              "bowler              0\n",
              "batsman_runs        0\n",
              "extra_runs          0\n",
              "total_runs          0\n",
              "non_boundary        0\n",
              "is_wicket           0\n",
              "dismissal_kind      0\n",
              "player_dismissed    0\n",
              "fielder             0\n",
              "extras_type         0\n",
              "batting_team        0\n",
              "bowling_team        0\n",
              "dtype: int64"
            ]
          },
          "metadata": {},
          "execution_count": 77
        }
      ]
    },
    {
      "cell_type": "code",
      "metadata": {
        "id": "gGh4WJ2oBX_I"
      },
      "source": [
        "data.groupby([''])"
      ],
      "execution_count": null,
      "outputs": []
    },
    {
      "cell_type": "code",
      "metadata": {
        "id": "TlW9XEBkG1gE"
      },
      "source": [
        ""
      ],
      "execution_count": null,
      "outputs": []
    },
    {
      "cell_type": "code",
      "metadata": {
        "id": "LLz7wgKgIqkV"
      },
      "source": [
        ""
      ],
      "execution_count": null,
      "outputs": []
    },
    {
      "cell_type": "code",
      "metadata": {
        "id": "XQXA1lX9IqnL"
      },
      "source": [
        ""
      ],
      "execution_count": null,
      "outputs": []
    },
    {
      "cell_type": "code",
      "metadata": {
        "id": "aM331fT8Iqpi",
        "colab": {
          "base_uri": "https://localhost:8080/",
          "height": 571
        },
        "outputId": "487a8048-076a-4771-ba09-1ff8ff097029"
      },
      "source": [
        "from pandas_datareader import data\n",
        "# read INFOSYS stock from 01-Jan-2021 to 30-Nov-2021 from Yahoo, and reset the index\n",
        "ts_df=data.DataReader(\"INFY.NS\", 'yahoo', '20210101', '20211130').reset_index()\n"
      ],
      "execution_count": null,
      "outputs": [
        {
          "output_type": "error",
          "ename": "RemoteDataError",
          "evalue": "ignored",
          "traceback": [
            "\u001b[0;31m---------------------------------------------------------------------------\u001b[0m",
            "\u001b[0;31mRemoteDataError\u001b[0m                           Traceback (most recent call last)",
            "\u001b[0;32m<ipython-input-88-4e4adac6c3da>\u001b[0m in \u001b[0;36m<module>\u001b[0;34m()\u001b[0m\n\u001b[1;32m      1\u001b[0m \u001b[0;32mfrom\u001b[0m \u001b[0mpandas_datareader\u001b[0m \u001b[0;32mimport\u001b[0m \u001b[0mdata\u001b[0m\u001b[0;34m\u001b[0m\u001b[0;34m\u001b[0m\u001b[0m\n\u001b[1;32m      2\u001b[0m \u001b[0;31m# read INFOSYS stock from 01-Jan-2021 to 30-Nov-2021 from Yahoo, and reset the index\u001b[0m\u001b[0;34m\u001b[0m\u001b[0;34m\u001b[0m\u001b[0;34m\u001b[0m\u001b[0m\n\u001b[0;32m----> 3\u001b[0;31m \u001b[0mts_df\u001b[0m\u001b[0;34m=\u001b[0m\u001b[0mdata\u001b[0m\u001b[0;34m.\u001b[0m\u001b[0mDataReader\u001b[0m\u001b[0;34m(\u001b[0m\u001b[0;34m\"INFY.NS\"\u001b[0m\u001b[0;34m,\u001b[0m \u001b[0;34m'yahoo'\u001b[0m\u001b[0;34m,\u001b[0m \u001b[0;34m'20210101'\u001b[0m\u001b[0;34m,\u001b[0m \u001b[0;34m'20211130'\u001b[0m\u001b[0;34m)\u001b[0m\u001b[0;34m.\u001b[0m\u001b[0mreset_index\u001b[0m\u001b[0;34m(\u001b[0m\u001b[0;34m)\u001b[0m\u001b[0;34m\u001b[0m\u001b[0;34m\u001b[0m\u001b[0m\n\u001b[0m",
            "\u001b[0;32m/usr/local/lib/python3.7/dist-packages/pandas/util/_decorators.py\u001b[0m in \u001b[0;36mwrapper\u001b[0;34m(*args, **kwargs)\u001b[0m\n\u001b[1;32m    197\u001b[0m                 \u001b[0;32melse\u001b[0m\u001b[0;34m:\u001b[0m\u001b[0;34m\u001b[0m\u001b[0;34m\u001b[0m\u001b[0m\n\u001b[1;32m    198\u001b[0m                     \u001b[0mkwargs\u001b[0m\u001b[0;34m[\u001b[0m\u001b[0mnew_arg_name\u001b[0m\u001b[0;34m]\u001b[0m \u001b[0;34m=\u001b[0m \u001b[0mnew_arg_value\u001b[0m\u001b[0;34m\u001b[0m\u001b[0;34m\u001b[0m\u001b[0m\n\u001b[0;32m--> 199\u001b[0;31m             \u001b[0;32mreturn\u001b[0m \u001b[0mfunc\u001b[0m\u001b[0;34m(\u001b[0m\u001b[0;34m*\u001b[0m\u001b[0margs\u001b[0m\u001b[0;34m,\u001b[0m \u001b[0;34m**\u001b[0m\u001b[0mkwargs\u001b[0m\u001b[0;34m)\u001b[0m\u001b[0;34m\u001b[0m\u001b[0;34m\u001b[0m\u001b[0m\n\u001b[0m\u001b[1;32m    200\u001b[0m \u001b[0;34m\u001b[0m\u001b[0m\n\u001b[1;32m    201\u001b[0m         \u001b[0;32mreturn\u001b[0m \u001b[0mcast\u001b[0m\u001b[0;34m(\u001b[0m\u001b[0mF\u001b[0m\u001b[0;34m,\u001b[0m \u001b[0mwrapper\u001b[0m\u001b[0;34m)\u001b[0m\u001b[0;34m\u001b[0m\u001b[0;34m\u001b[0m\u001b[0m\n",
            "\u001b[0;32m/usr/local/lib/python3.7/dist-packages/pandas_datareader/data.py\u001b[0m in \u001b[0;36mDataReader\u001b[0;34m(name, data_source, start, end, retry_count, pause, session, api_key)\u001b[0m\n\u001b[1;32m    382\u001b[0m             \u001b[0mretry_count\u001b[0m\u001b[0;34m=\u001b[0m\u001b[0mretry_count\u001b[0m\u001b[0;34m,\u001b[0m\u001b[0;34m\u001b[0m\u001b[0;34m\u001b[0m\u001b[0m\n\u001b[1;32m    383\u001b[0m             \u001b[0mpause\u001b[0m\u001b[0;34m=\u001b[0m\u001b[0mpause\u001b[0m\u001b[0;34m,\u001b[0m\u001b[0;34m\u001b[0m\u001b[0;34m\u001b[0m\u001b[0m\n\u001b[0;32m--> 384\u001b[0;31m             \u001b[0msession\u001b[0m\u001b[0;34m=\u001b[0m\u001b[0msession\u001b[0m\u001b[0;34m,\u001b[0m\u001b[0;34m\u001b[0m\u001b[0;34m\u001b[0m\u001b[0m\n\u001b[0m\u001b[1;32m    385\u001b[0m         ).read()\n\u001b[1;32m    386\u001b[0m \u001b[0;34m\u001b[0m\u001b[0m\n",
            "\u001b[0;32m/usr/local/lib/python3.7/dist-packages/pandas_datareader/base.py\u001b[0m in \u001b[0;36mread\u001b[0;34m(self)\u001b[0m\n\u001b[1;32m    251\u001b[0m         \u001b[0;31m# If a single symbol, (e.g., 'GOOG')\u001b[0m\u001b[0;34m\u001b[0m\u001b[0;34m\u001b[0m\u001b[0;34m\u001b[0m\u001b[0m\n\u001b[1;32m    252\u001b[0m         \u001b[0;32mif\u001b[0m \u001b[0misinstance\u001b[0m\u001b[0;34m(\u001b[0m\u001b[0mself\u001b[0m\u001b[0;34m.\u001b[0m\u001b[0msymbols\u001b[0m\u001b[0;34m,\u001b[0m \u001b[0;34m(\u001b[0m\u001b[0mstring_types\u001b[0m\u001b[0;34m,\u001b[0m \u001b[0mint\u001b[0m\u001b[0;34m)\u001b[0m\u001b[0;34m)\u001b[0m\u001b[0;34m:\u001b[0m\u001b[0;34m\u001b[0m\u001b[0;34m\u001b[0m\u001b[0m\n\u001b[0;32m--> 253\u001b[0;31m             \u001b[0mdf\u001b[0m \u001b[0;34m=\u001b[0m \u001b[0mself\u001b[0m\u001b[0;34m.\u001b[0m\u001b[0m_read_one_data\u001b[0m\u001b[0;34m(\u001b[0m\u001b[0mself\u001b[0m\u001b[0;34m.\u001b[0m\u001b[0murl\u001b[0m\u001b[0;34m,\u001b[0m \u001b[0mparams\u001b[0m\u001b[0;34m=\u001b[0m\u001b[0mself\u001b[0m\u001b[0;34m.\u001b[0m\u001b[0m_get_params\u001b[0m\u001b[0;34m(\u001b[0m\u001b[0mself\u001b[0m\u001b[0;34m.\u001b[0m\u001b[0msymbols\u001b[0m\u001b[0;34m)\u001b[0m\u001b[0;34m)\u001b[0m\u001b[0;34m\u001b[0m\u001b[0;34m\u001b[0m\u001b[0m\n\u001b[0m\u001b[1;32m    254\u001b[0m         \u001b[0;31m# Or multiple symbols, (e.g., ['GOOG', 'AAPL', 'MSFT'])\u001b[0m\u001b[0;34m\u001b[0m\u001b[0;34m\u001b[0m\u001b[0;34m\u001b[0m\u001b[0m\n\u001b[1;32m    255\u001b[0m         \u001b[0;32melif\u001b[0m \u001b[0misinstance\u001b[0m\u001b[0;34m(\u001b[0m\u001b[0mself\u001b[0m\u001b[0;34m.\u001b[0m\u001b[0msymbols\u001b[0m\u001b[0;34m,\u001b[0m \u001b[0mDataFrame\u001b[0m\u001b[0;34m)\u001b[0m\u001b[0;34m:\u001b[0m\u001b[0;34m\u001b[0m\u001b[0;34m\u001b[0m\u001b[0m\n",
            "\u001b[0;32m/usr/local/lib/python3.7/dist-packages/pandas_datareader/yahoo/daily.py\u001b[0m in \u001b[0;36m_read_one_data\u001b[0;34m(self, url, params)\u001b[0m\n\u001b[1;32m    151\u001b[0m         \u001b[0murl\u001b[0m \u001b[0;34m=\u001b[0m \u001b[0murl\u001b[0m\u001b[0;34m.\u001b[0m\u001b[0mformat\u001b[0m\u001b[0;34m(\u001b[0m\u001b[0msymbol\u001b[0m\u001b[0;34m)\u001b[0m\u001b[0;34m\u001b[0m\u001b[0;34m\u001b[0m\u001b[0m\n\u001b[1;32m    152\u001b[0m \u001b[0;34m\u001b[0m\u001b[0m\n\u001b[0;32m--> 153\u001b[0;31m         \u001b[0mresp\u001b[0m \u001b[0;34m=\u001b[0m \u001b[0mself\u001b[0m\u001b[0;34m.\u001b[0m\u001b[0m_get_response\u001b[0m\u001b[0;34m(\u001b[0m\u001b[0murl\u001b[0m\u001b[0;34m,\u001b[0m \u001b[0mparams\u001b[0m\u001b[0;34m=\u001b[0m\u001b[0mparams\u001b[0m\u001b[0;34m)\u001b[0m\u001b[0;34m\u001b[0m\u001b[0;34m\u001b[0m\u001b[0m\n\u001b[0m\u001b[1;32m    154\u001b[0m         \u001b[0mptrn\u001b[0m \u001b[0;34m=\u001b[0m \u001b[0;34mr\"root\\.App\\.main = (.*?);\\n}\\(this\\)\\);\"\u001b[0m\u001b[0;34m\u001b[0m\u001b[0;34m\u001b[0m\u001b[0m\n\u001b[1;32m    155\u001b[0m         \u001b[0;32mtry\u001b[0m\u001b[0;34m:\u001b[0m\u001b[0;34m\u001b[0m\u001b[0;34m\u001b[0m\u001b[0m\n",
            "\u001b[0;32m/usr/local/lib/python3.7/dist-packages/pandas_datareader/base.py\u001b[0m in \u001b[0;36m_get_response\u001b[0;34m(self, url, params, headers)\u001b[0m\n\u001b[1;32m    179\u001b[0m             \u001b[0mmsg\u001b[0m \u001b[0;34m+=\u001b[0m \u001b[0;34m\"\\nResponse Text:\\n{0}\"\u001b[0m\u001b[0;34m.\u001b[0m\u001b[0mformat\u001b[0m\u001b[0;34m(\u001b[0m\u001b[0mlast_response_text\u001b[0m\u001b[0;34m)\u001b[0m\u001b[0;34m\u001b[0m\u001b[0;34m\u001b[0m\u001b[0m\n\u001b[1;32m    180\u001b[0m \u001b[0;34m\u001b[0m\u001b[0m\n\u001b[0;32m--> 181\u001b[0;31m         \u001b[0;32mraise\u001b[0m \u001b[0mRemoteDataError\u001b[0m\u001b[0;34m(\u001b[0m\u001b[0mmsg\u001b[0m\u001b[0;34m)\u001b[0m\u001b[0;34m\u001b[0m\u001b[0;34m\u001b[0m\u001b[0m\n\u001b[0m\u001b[1;32m    182\u001b[0m \u001b[0;34m\u001b[0m\u001b[0m\n\u001b[1;32m    183\u001b[0m     \u001b[0;32mdef\u001b[0m \u001b[0m_get_crumb\u001b[0m\u001b[0;34m(\u001b[0m\u001b[0mself\u001b[0m\u001b[0;34m,\u001b[0m \u001b[0;34m*\u001b[0m\u001b[0margs\u001b[0m\u001b[0;34m)\u001b[0m\u001b[0;34m:\u001b[0m\u001b[0;34m\u001b[0m\u001b[0;34m\u001b[0m\u001b[0m\n",
            "\u001b[0;31mRemoteDataError\u001b[0m: Unable to read URL: https://finance.yahoo.com/quote/INFY.NS/history?period1=1609473600&period2=1638331199&interval=1d&frequency=1d&filter=history\nResponse Text:\nb'<!DOCTYPE html>\\n  <html lang=\"en-us\"><head>\\n  <meta http-equiv=\"content-type\" content=\"text/html; charset=UTF-8\">\\n      <meta charset=\"utf-8\">\\n      <title>Yahoo</title>\\n      <meta name=\"viewport\" content=\"width=device-width,initial-scale=1,minimal-ui\">\\n      <meta http-equiv=\"X-UA-Compatible\" content=\"IE=edge,chrome=1\">\\n      <style>\\n  html {\\n      height: 100%;\\n  }\\n  body {\\n      background: #fafafc url(https://s.yimg.com/nn/img/sad-panda-201402200631.png) 50% 50%;\\n      background-size: cover;\\n      height: 100%;\\n      text-align: center;\\n      font: 300 18px \"helvetica neue\", helvetica, verdana, tahoma, arial, sans-serif;\\n  }\\n  table {\\n      height: 100%;\\n      width: 100%;\\n      table-layout: fixed;\\n      border-collapse: collapse;\\n      border-spacing: 0;\\n      border: none;\\n  }\\n  h1 {\\n      font-size: 42px;\\n      font-weight: 400;\\n      color: #400090;\\n  }\\n  p {\\n      color: #1A1A1A;\\n  }\\n  #message-1 {\\n      font-weight: bold;\\n      margin: 0;\\n  }\\n  #message-2 {\\n      display: inline-block;\\n      *display: inline;\\n      zoom: 1;\\n      max-width: 17em;\\n      _width: 17em;\\n  }\\n      </style>\\n  <script>\\n    document.write(\\'<img src=\"//geo.yahoo.com/b?s=1197757129&t=\\'+new Date().getTime()+\\'&src=aws&err_url=\\'+encodeURIComponent(document.URL)+\\'&err=%<pssc>&test=\\'+encodeURIComponent(\\'%<{Bucket}cqh[:200]>\\')+\\'\" width=\"0px\" height=\"0px\"/>\\');var beacon = new Image();beacon.src=\"//bcn.fp.yahoo.com/p?s=1197757129&t=\"+ne..."
          ]
        }
      ]
    },
    {
      "cell_type": "code",
      "metadata": {
        "id": "jA2Q0oi1ItA-"
      },
      "source": [
        ""
      ],
      "execution_count": null,
      "outputs": []
    }
  ]
}